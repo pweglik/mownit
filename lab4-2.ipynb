{
 "cells": [
  {
   "cell_type": "code",
   "execution_count": 1,
   "id": "66affc7f",
   "metadata": {},
   "outputs": [],
   "source": [
    "import numpy as np\n",
    "import imageio as iio\n",
    "from IPython.display import Image"
   ]
  },
  {
   "cell_type": "code",
   "execution_count": 12,
   "id": "f11739c5",
   "metadata": {},
   "outputs": [],
   "source": [
    "# various cost functions\n",
    "def cost_function1(picture):\n",
    "    # same color attract in Moore neighbourhood\n",
    "    N = picture.shape[0]\n",
    "    cost: int = 0\n",
    "    # up-down\n",
    "    neighbours = picture[:(N-1), :] == picture[1:, :]\n",
    "    cost = (N ** 2 - np.sum(neighbours))\n",
    "    \n",
    "    # left-right\n",
    "    neighbours = picture[:, :(N-1)] == picture[:, 1:]\n",
    "    cost = (N ** 2 - np.sum(neighbours))\n",
    "    \n",
    "    # diagonals\n",
    "    neighbours = picture[:(N-1), :(N-1)] == picture[1:, 1:]\n",
    "    cost = (N ** 2 - np.sum(neighbours))\n",
    "    \n",
    "    neighbours = picture[:(N-1), 1:] == picture[1:, :(N-1)]\n",
    "    cost = (N ** 2 - np.sum(neighbours))\n",
    "\n",
    "    cost = cost * 0.1 # to scale it a little bit\n",
    "    return cost\n",
    "\n",
    "def cost_function2(picture):\n",
    "    # form vertical lines\n",
    "    N = picture.shape[0]\n",
    "    cost: int = 0\n",
    "    \n",
    "    # horizontal neighbours increase cost\n",
    "    neighbours = picture[:, :(N-1)] == picture[:, 1:]\n",
    "    cost += np.sum(neighbours)\n",
    "    \n",
    "\n",
    "    cost = cost * 0.1 # to scale it a little bit\n",
    "    return cost\n",
    "\n",
    "def cost_function3(picture):\n",
    "    # form horizontal lines\n",
    "    N = picture.shape[0]\n",
    "    cost: int = 0\n",
    "    \n",
    "    # vertical neighbours increase cost\n",
    "#     neighbours = picture[:(N-1), :] == picture[1:, :]\n",
    "#     cost += np.sum(neighbours)\n",
    "    cost = np.random.randint(10, 200, 1)[0]\n",
    "\n",
    "    cost = cost * 0.1 # to scale it a little bit\n",
    "    return cost"
   ]
  },
  {
   "cell_type": "code",
   "execution_count": 13,
   "id": "df3ba998",
   "metadata": {},
   "outputs": [],
   "source": [
    "# temperature function\n",
    "def temp_function(k, steps):\n",
    "    return 1/np.exp(k/steps)\n",
    "\n",
    "# probability that we take solution even if it is worse\n",
    "def acceptance_function(T, energy_difference):\n",
    "    if energy_difference < 0:\n",
    "        return 1 # always go down a gradient if found a way\n",
    "    return 1/(1 + np.exp(energy_difference/T))"
   ]
  },
  {
   "cell_type": "code",
   "execution_count": 14,
   "id": "cc22bd7c",
   "metadata": {},
   "outputs": [],
   "source": [
    "def swap_picture(picture, swap_positions = None):\n",
    "    N = picture.shape[0]\n",
    "    # if positions is None we will generate them randomly\n",
    "    if swap_positions == None:\n",
    "        temp = np.random.randint(0, N, 4)\n",
    "        swap_positions = np.array([[temp[0], temp[1]], [temp[2], temp[3]]])\n",
    "            \n",
    "\n",
    "    picture[swap_positions[0]], picture[swap_positions[1]] = picture[swap_positions[1]], picture[swap_positions[0]]\n",
    "    \n",
    "    return swap_positions[0], swap_positions[1]"
   ]
  },
  {
   "cell_type": "code",
   "execution_count": 15,
   "id": "6b907436",
   "metadata": {},
   "outputs": [],
   "source": [
    "# main function\n",
    "def annealing(picture, cost_function_arg, max_steps = 10000):\n",
    "    T: float = -1\n",
    "    current_energy: float = cost_function_arg(picture)\n",
    "    next_energy: float = -1\n",
    "    best_energy: float = current_energy\n",
    "    best_picture = picture\n",
    "    for k in range(max_steps):\n",
    "        T = temp_function(k, max_steps)\n",
    "        swap_positions: Tuple[int, int] = swap_picture(picture)\n",
    "        next_energy = cost_function_arg(picture)\n",
    "\n",
    "        # if new state not accepted swap back\n",
    "        if not (acceptance_function(T, next_energy - current_energy) > np.random.uniform(0, 1)):\n",
    "            swap_picture(picture, swap_positions)\n",
    "            # current energy stays the same\n",
    "        else:\n",
    "            current_energy = next_energy\n",
    "\n",
    "        if best_energy > current_energy:\n",
    "            best_energy = current_energy\n",
    "            best_picture = picture\n",
    "\n",
    "        if k % 1000 == 0:\n",
    "            print(f'k: {k} energy: {best_energy}')\n",
    "            \n",
    "    picture = best_picture\n",
    "    return picture"
   ]
  },
  {
   "cell_type": "code",
   "execution_count": 16,
   "id": "1db6fc6f",
   "metadata": {},
   "outputs": [
    {
     "data": {
      "image/gif": "[encoded data removed]",
      "text/plain": [
       "<IPython.core.display.Image object>"
      ]
     },
     "execution_count": 16,
     "metadata": {},
     "output_type": "execute_result"
    }
   ],
   "source": [
    "# experminets\n",
    "N = 64\n",
    "raw_picture = np.random.choice([0, 255], N**2).reshape(N, N)\n",
    "raw_picture = raw_picture.astype(np.uint8)\n",
    "iio.imwrite('data/lab4/init_grid.gif', raw_picture)  \n",
    "Image(filename='data/lab4/init_grid.gif') "
   ]
  },
  {
   "cell_type": "code",
   "execution_count": 17,
   "id": "2a42951d",
   "metadata": {},
   "outputs": [
    {
     "name": "stdout",
     "output_type": "stream",
     "text": [
      "k: 0 energy: 211.70000000000002\n",
      "k: 1000 energy: 196.70000000000002\n",
      "k: 2000 energy: 196.70000000000002\n",
      "k: 3000 energy: 196.70000000000002\n",
      "k: 4000 energy: 196.70000000000002\n",
      "k: 5000 energy: 196.70000000000002\n",
      "k: 6000 energy: 196.70000000000002\n",
      "k: 7000 energy: 196.70000000000002\n",
      "k: 8000 energy: 196.70000000000002\n",
      "k: 9000 energy: 196.70000000000002\n",
      "k: 10000 energy: 196.70000000000002\n",
      "k: 11000 energy: 196.70000000000002\n",
      "k: 12000 energy: 196.70000000000002\n",
      "k: 13000 energy: 196.70000000000002\n",
      "k: 14000 energy: 196.70000000000002\n",
      "k: 15000 energy: 196.70000000000002\n",
      "k: 16000 energy: 196.70000000000002\n",
      "k: 17000 energy: 196.70000000000002\n",
      "k: 18000 energy: 196.70000000000002\n",
      "k: 19000 energy: 196.70000000000002\n"
     ]
    },
    {
     "data": {
      "image/gif": "[encoded data removed]",
      "text/plain": [
       "<IPython.core.display.Image object>"
      ]
     },
     "execution_count": 17,
     "metadata": {},
     "output_type": "execute_result"
    }
   ],
   "source": [
    "result_pic = annealing(np.copy(raw_picture), cost_function1, max_steps=20000)\n",
    "iio.imwrite('data/lab4/ann1.gif', result_pic)  \n",
    "Image(filename='data/lab4/ann1.gif') "
   ]
  },
  {
   "cell_type": "code",
   "execution_count": 18,
   "id": "6550115f",
   "metadata": {},
   "outputs": [
    {
     "name": "stdout",
     "output_type": "stream",
     "text": [
      "k: 0 energy: 202.3\n",
      "k: 1000 energy: 196.0\n",
      "k: 2000 energy: 183.10000000000002\n",
      "k: 3000 energy: 177.5\n",
      "k: 4000 energy: 174.0\n",
      "k: 5000 energy: 171.8\n",
      "k: 6000 energy: 168.20000000000002\n",
      "k: 7000 energy: 166.60000000000002\n",
      "k: 8000 energy: 163.60000000000002\n",
      "k: 9000 energy: 163.60000000000002\n",
      "k: 10000 energy: 161.60000000000002\n",
      "k: 11000 energy: 161.4\n",
      "k: 12000 energy: 161.4\n",
      "k: 13000 energy: 161.4\n",
      "k: 14000 energy: 161.4\n",
      "k: 15000 energy: 160.8\n",
      "k: 16000 energy: 156.5\n",
      "k: 17000 energy: 153.60000000000002\n",
      "k: 18000 energy: 153.60000000000002\n",
      "k: 19000 energy: 153.60000000000002\n",
      "k: 20000 energy: 153.60000000000002\n",
      "k: 21000 energy: 153.60000000000002\n",
      "k: 22000 energy: 153.60000000000002\n",
      "k: 23000 energy: 153.60000000000002\n",
      "k: 24000 energy: 153.60000000000002\n",
      "k: 25000 energy: 153.60000000000002\n",
      "k: 26000 energy: 153.60000000000002\n",
      "k: 27000 energy: 153.60000000000002\n",
      "k: 28000 energy: 153.60000000000002\n",
      "k: 29000 energy: 153.60000000000002\n",
      "k: 30000 energy: 153.60000000000002\n",
      "k: 31000 energy: 153.60000000000002\n",
      "k: 32000 energy: 153.60000000000002\n",
      "k: 33000 energy: 153.60000000000002\n",
      "k: 34000 energy: 153.60000000000002\n",
      "k: 35000 energy: 153.60000000000002\n",
      "k: 36000 energy: 153.60000000000002\n",
      "k: 37000 energy: 153.60000000000002\n",
      "k: 38000 energy: 153.60000000000002\n",
      "k: 39000 energy: 153.60000000000002\n"
     ]
    },
    {
     "data": {
      "image/gif": "[encoded data removed]",
      "text/plain": [
       "<IPython.core.display.Image object>"
      ]
     },
     "execution_count": 18,
     "metadata": {},
     "output_type": "execute_result"
    }
   ],
   "source": [
    "result_pic = annealing(np.copy(raw_picture), cost_function2, max_steps=40000)\n",
    "iio.imwrite('data/lab4/ann2.gif', result_pic)  \n",
    "Image(filename='data/lab4/ann2.gif') "
   ]
  },
  {
   "cell_type": "code",
   "execution_count": 19,
   "id": "81590e9c",
   "metadata": {},
   "outputs": [
    {
     "name": "stdout",
     "output_type": "stream",
     "text": [
      "k: 0 energy: 12.3\n",
      "k: 1000 energy: 1.0\n",
      "k: 2000 energy: 1.0\n",
      "k: 3000 energy: 1.0\n",
      "k: 4000 energy: 1.0\n",
      "k: 5000 energy: 1.0\n",
      "k: 6000 energy: 1.0\n",
      "k: 7000 energy: 1.0\n",
      "k: 8000 energy: 1.0\n",
      "k: 9000 energy: 1.0\n",
      "k: 10000 energy: 1.0\n",
      "k: 11000 energy: 1.0\n",
      "k: 12000 energy: 1.0\n",
      "k: 13000 energy: 1.0\n",
      "k: 14000 energy: 1.0\n",
      "k: 15000 energy: 1.0\n",
      "k: 16000 energy: 1.0\n",
      "k: 17000 energy: 1.0\n",
      "k: 18000 energy: 1.0\n",
      "k: 19000 energy: 1.0\n",
      "k: 20000 energy: 1.0\n",
      "k: 21000 energy: 1.0\n",
      "k: 22000 energy: 1.0\n",
      "k: 23000 energy: 1.0\n",
      "k: 24000 energy: 1.0\n",
      "k: 25000 energy: 1.0\n",
      "k: 26000 energy: 1.0\n",
      "k: 27000 energy: 1.0\n",
      "k: 28000 energy: 1.0\n",
      "k: 29000 energy: 1.0\n",
      "k: 30000 energy: 1.0\n",
      "k: 31000 energy: 1.0\n",
      "k: 32000 energy: 1.0\n",
      "k: 33000 energy: 1.0\n",
      "k: 34000 energy: 1.0\n",
      "k: 35000 energy: 1.0\n",
      "k: 36000 energy: 1.0\n",
      "k: 37000 energy: 1.0\n",
      "k: 38000 energy: 1.0\n",
      "k: 39000 energy: 1.0\n"
     ]
    },
    {
     "data": {
      "image/gif": "[encoded data removed]",
      "text/plain": [
       "<IPython.core.display.Image object>"
      ]
     },
     "execution_count": 19,
     "metadata": {},
     "output_type": "execute_result"
    }
   ],
   "source": [
    "result_pic = annealing(np.copy(raw_picture), cost_function3, max_steps=40000)\n",
    "iio.imwrite('data/lab4/ann3.gif', result_pic)  \n",
    "Image(filename='data/lab4/ann3.gif') "
   ]
  },
  {
   "cell_type": "markdown",
   "id": "d5423f9c",
   "metadata": {},
   "source": [
    "**Wnioski**: da sie zaobserwować ustawianie się pixeli w linie pionowe i poziome. Linie pionowe działają dużo gorzej, ale prawdopodobnie wynika to z mojego błędu w kodzie"
   ]
  }
 ],
 "metadata": {
  "kernelspec": {
   "display_name": "Python 3.8.10 64-bit",
   "language": "python",
   "name": "python3810jvsc74a57bd0916dbcbb3f70747c44a77c7bcd40155683ae19c65e1c03b4aa3499c5328201f1"
  },
  "language_info": {
   "codemirror_mode": {
    "name": "ipython",
    "version": 3
   },
   "file_extension": ".py",
   "mimetype": "text/x-python",
   "name": "python",
   "nbconvert_exporter": "python",
   "pygments_lexer": "ipython3",
   "version": "3.8.10"
  }
 },
 "nbformat": 4,
 "nbformat_minor": 5
}
