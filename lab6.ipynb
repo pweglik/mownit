{
 "cells": [
  {
   "cell_type": "markdown",
   "id": "8f38e66f",
   "metadata": {},
   "source": [
    "1. używamy macierzy rzadkich, bo mamy ogromne macierze\n",
    "2. ~ 100k artykułów z wikipedii\n",
    "3. normalizacja po długości tekstu\n",
    "4. artykuły jako bag of words\n",
    "5. najpierw używamy prostej wyszukiwarki, używajac kąty miedzy wektorami jako miary podobieństwa\n",
    "\n",
    "6. potem uzyjemy SVD do przyblizenia tych wektorow przez obnizenie wektorowości (mniejszy zbiór)\n",
    "\n",
    "uzyc NLP zeby zredukowac ilosc słów (przyimki liczby mnogie etc)\n",
    "STOP WORDs\n",
    "\n",
    "EXTRA:\n",
    "Latent Dirichlet Alocation\n",
    "Bag of topics\n",
    "BERT\n",
    "\n",
    "\n",
    "NAPISAĆ GUI - front ma działać szybko"
   ]
  },
  {
   "cell_type": "markdown",
   "id": "27ca2856",
   "metadata": {},
   "source": [
    "## Loading dataset"
   ]
  },
  {
   "cell_type": "code",
   "execution_count": 20,
   "id": "f43ef268",
   "metadata": {},
   "outputs": [],
   "source": [
    "import matplotlib.pyplot as plt\n",
    "import numpy as np\n",
    "import tensorflow as tf\n",
    "import re\n",
    "import tensorflow_datasets as tfds\n",
    "from sklearn.feature_extraction import DictVectorizer\n",
    "from collections import Counter\n",
    "from scipy.sparse import find, csr_matrix, linalg, diags"
   ]
  },
  {
   "cell_type": "code",
   "execution_count": 24,
   "id": "6fb7791d",
   "metadata": {},
   "outputs": [],
   "source": [
    "def prepare_data():\n",
    "    # loding dataset\n",
    "    ds = tfds.load('wikipedia/20201201.simple', shuffle_files=False, split=\"train\")\n",
    "    ds_np = tfds.as_numpy(ds)\n",
    "    \n",
    "    # spliting articles into lists of words and preparing raw texts for quick querying\n",
    "    arts_split = []\n",
    "    texts = []\n",
    "    for art in ds_np:\n",
    "        words = re.sub(r\"[^a-zA-Z0-9]\", \" \", art['text'].decode(\"utf-8\").lower()).split(' ')\n",
    "        arts_split.append(words)\n",
    "        texts.append(art['title'].decode(\"utf-8\") + \"\\n\\n\" + art['text'].decode(\"utf-8\"))\n",
    "    \n",
    "    # freeing memory  \n",
    "    del ds\n",
    "    del ds_np\n",
    "    \n",
    "    # building sparse matrix\n",
    "    vectorizer = DictVectorizer(sparse=True)\n",
    "    doc_term_mat = vectorizer.fit_transform(Counter(art) for art in arts_split)\n",
    "    \n",
    "    # multiplying by IDF\n",
    "    IDF = np.log(doc_term_mat.shape[1] / (doc_term_mat != 0).sum(axis = 0))\n",
    "    doc_term_mat_processed = doc_term_mat.multiply(IDF)\n",
    "    \n",
    "    # using svd and low rank approximation to decrease noise\n",
    "# NOTE WE\"RE NOT USING IT AS MULTIPYING THOSE MATRICIES AT FULL DATASET TAKES AGES\n",
    "#     u, s, vh = linalg.svds(doc_term_mat_processed, k=10)\n",
    "\n",
    "#     u = csr_matrix(u)\n",
    "#     s = csr_matrix(diags(s))\n",
    "#     vh = csr_matrix(vh)\n",
    "\n",
    "#     doc_term_mat_processed = u @ s @ vh\n",
    "    \n",
    "    return doc_term_mat, doc_term_mat_processed, vectorizer, texts"
   ]
  },
  {
   "cell_type": "code",
   "execution_count": 25,
   "id": "79c0e857",
   "metadata": {},
   "outputs": [],
   "source": [
    "def make_query(doc_term_mat, vectorizer, texts, query_string, no_of_results = 5):\n",
    "    # split query string into words and vectorize it\n",
    "    query_words = re.sub(r\"[^a-zA-Z0-9]\", \" \", query_string.lower()).split(' ')\n",
    "    query_vector = vectorizer.transform(Counter(query_words))\n",
    "    \n",
    "    # computer correlations\n",
    "    corr = doc_term_mat @ query_vector.transpose() / linalg.norm(query_vector) / linalg.norm(doc_term_mat)\n",
    "    \n",
    "    # find best results\n",
    "    result = find(corr)\n",
    "\n",
    "    idx = np.argpartition(result[2], -no_of_results)[-no_of_results:]\n",
    "    indices = idx[np.argsort((-result[2])[idx])]\n",
    "    \n",
    "    # print teasers\n",
    "    \n",
    "    for ind in indices:\n",
    "        print(texts[result[0][ind]][:100])\n",
    "        print(\"\\n-----------------------------------\\n\")"
   ]
  },
  {
   "cell_type": "code",
   "execution_count": 26,
   "id": "812fc6b8",
   "metadata": {},
   "outputs": [],
   "source": [
    "doc_term_mat, doc_term_mat_processed, vectorizer, texts = prepare_data()"
   ]
  },
  {
   "cell_type": "code",
   "execution_count": 27,
   "id": "b8452db5",
   "metadata": {},
   "outputs": [
    {
     "name": "stdout",
     "output_type": "stream",
     "text": [
      "Tiger shark\n",
      "\n",
      "The tiger shark (Galeocerdo cuvier) is a species of requiem shark, and is the only memb\n",
      "\n",
      "-----------------------------------\n",
      "\n",
      "Tiger\n",
      "\n",
      "The tiger (Panthera tigris) is the largest living member of the cat family, the Felidae. It f\n",
      "\n",
      "-----------------------------------\n",
      "\n",
      "South China tiger\n",
      "\n",
      "The South China tiger (Panthera tigris amoyensis) is an almost extinct subspecies\n",
      "\n",
      "-----------------------------------\n",
      "\n",
      "Drunken Tiger\n",
      "\n",
      "Drunken Tiger (DT) is a South Korean hip hop group which issued their first album in \n",
      "\n",
      "-----------------------------------\n",
      "\n",
      "Tipu's Tiger\n",
      "\n",
      "Tipu's Tiger (a.k.a. Tippoo's Tiger) is an 18th century moving model, musical instrume\n",
      "\n",
      "-----------------------------------\n",
      "\n"
     ]
    }
   ],
   "source": [
    "make_query(doc_term_mat, vectorizer, texts, \"tiger\")"
   ]
  },
  {
   "cell_type": "code",
   "execution_count": 28,
   "id": "d8cb67ed",
   "metadata": {},
   "outputs": [
    {
     "name": "stdout",
     "output_type": "stream",
     "text": [
      "Tiger shark\n",
      "\n",
      "The tiger shark (Galeocerdo cuvier) is a species of requiem shark, and is the only memb\n",
      "\n",
      "-----------------------------------\n",
      "\n",
      "Tiger\n",
      "\n",
      "The tiger (Panthera tigris) is the largest living member of the cat family, the Felidae. It f\n",
      "\n",
      "-----------------------------------\n",
      "\n",
      "South China tiger\n",
      "\n",
      "The South China tiger (Panthera tigris amoyensis) is an almost extinct subspecies\n",
      "\n",
      "-----------------------------------\n",
      "\n",
      "Drunken Tiger\n",
      "\n",
      "Drunken Tiger (DT) is a South Korean hip hop group which issued their first album in \n",
      "\n",
      "-----------------------------------\n",
      "\n",
      "Tipu's Tiger\n",
      "\n",
      "Tipu's Tiger (a.k.a. Tippoo's Tiger) is an 18th century moving model, musical instrume\n",
      "\n",
      "-----------------------------------\n",
      "\n"
     ]
    }
   ],
   "source": [
    "make_query(doc_term_mat_processed, vectorizer, texts, \"tiger\")"
   ]
  },
  {
   "cell_type": "code",
   "execution_count": 32,
   "id": "6261de5d",
   "metadata": {},
   "outputs": [
    {
     "name": "stdout",
     "output_type": "stream",
     "text": [
      "Hot chocolate\n",
      "\n",
      "Hot chocolate (also called hot cocoa, drinking chocolate or just cocoa) is a hot drin\n",
      "\n",
      "-----------------------------------\n",
      "\n",
      "Fanta\n",
      "\n",
      "Fanta is an orange soda drink. It was created in Germany in 1940. Fanta was created during Wo\n",
      "\n",
      "-----------------------------------\n",
      "\n",
      "Coffee\n",
      "\n",
      "Coffee is a plant (Coffea) and the name of the drink that is made from this plant. The coffe\n",
      "\n",
      "-----------------------------------\n",
      "\n",
      "Alcoholism\n",
      "\n",
      "Alcoholism is addiction to alcohol. People who have alcoholism are called alcoholics.  \n",
      "\n",
      "\n",
      "-----------------------------------\n",
      "\n",
      "Sweet potato\n",
      "\n",
      "The sweet potato (Ipomoea batatas) is a plant that is a member of the morning glory fa\n",
      "\n",
      "-----------------------------------\n",
      "\n"
     ]
    }
   ],
   "source": [
    "make_query(doc_term_mat, vectorizer, texts, \"fanta sweet drink\")"
   ]
  },
  {
   "cell_type": "code",
   "execution_count": 31,
   "id": "5beaea0d",
   "metadata": {},
   "outputs": [
    {
     "name": "stdout",
     "output_type": "stream",
     "text": [
      "Fanta\n",
      "\n",
      "Fanta is an orange soda drink. It was created in Germany in 1940. Fanta was created during Wo\n",
      "\n",
      "-----------------------------------\n",
      "\n",
      "Hot chocolate\n",
      "\n",
      "Hot chocolate (also called hot cocoa, drinking chocolate or just cocoa) is a hot drin\n",
      "\n",
      "-----------------------------------\n",
      "\n",
      "Coffee\n",
      "\n",
      "Coffee is a plant (Coffea) and the name of the drink that is made from this plant. The coffe\n",
      "\n",
      "-----------------------------------\n",
      "\n",
      "Alcoholism\n",
      "\n",
      "Alcoholism is addiction to alcohol. People who have alcoholism are called alcoholics.  \n",
      "\n",
      "\n",
      "-----------------------------------\n",
      "\n",
      "Sweet potato\n",
      "\n",
      "The sweet potato (Ipomoea batatas) is a plant that is a member of the morning glory fa\n",
      "\n",
      "-----------------------------------\n",
      "\n"
     ]
    }
   ],
   "source": [
    "make_query(doc_term_mat_processed, vectorizer, texts, \"fanta sweet drink\")"
   ]
  },
  {
   "cell_type": "code",
   "execution_count": 38,
   "id": "781dbc0b",
   "metadata": {},
   "outputs": [
    {
     "name": "stdout",
     "output_type": "stream",
     "text": [
      "Internet Explorer\n",
      "\n",
      "Internet Explorer (IE); formerly known as Microsoft Internet Explorer and Windows\n",
      "\n",
      "-----------------------------------\n",
      "\n",
      "Asian Masters Athletics Championships\n",
      "\n",
      "The Asian Masters Athletics Championships are the biannual ch\n",
      "\n",
      "-----------------------------------\n",
      "\n",
      "Tim Berners-Lee\n",
      "\n",
      "Sir Timothy John \"Tim\" Berners-Lee OM KBE FRS (born 8 June 1955) is the inventor of\n",
      "\n",
      "-----------------------------------\n",
      "\n",
      "Development\n",
      "\n",
      "Development  has meaning in several contexts:\n",
      "\n",
      "Engineering\n",
      " Land improvement and/or con\n",
      "\n",
      "-----------------------------------\n",
      "\n",
      "Norton Internet Security\n",
      "\n",
      "Norton Internet Security is a security program made by Symantec Corporatio\n",
      "\n",
      "-----------------------------------\n",
      "\n"
     ]
    }
   ],
   "source": [
    "make_query(doc_term_mat_processed, vectorizer, texts, \"web development internet technology\")"
   ]
  },
  {
   "cell_type": "code",
   "execution_count": 40,
   "id": "dcad9969",
   "metadata": {},
   "outputs": [
    {
     "name": "stdout",
     "output_type": "stream",
     "text": [
      "Internet Explorer\n",
      "\n",
      "Internet Explorer (IE); formerly known as Microsoft Internet Explorer and Windows\n",
      "\n",
      "-----------------------------------\n",
      "\n",
      "Development\n",
      "\n",
      "Development  has meaning in several contexts:\n",
      "\n",
      "Engineering\n",
      " Land improvement and/or con\n",
      "\n",
      "-----------------------------------\n",
      "\n",
      "Norton Internet Security\n",
      "\n",
      "Norton Internet Security is a security program made by Symantec Corporatio\n",
      "\n",
      "-----------------------------------\n",
      "\n",
      "Cloud computing\n",
      "\n",
      "Cloud computing is when computing services are provided by a company or place outsi\n",
      "\n",
      "-----------------------------------\n",
      "\n",
      "Free Software Foundation\n",
      "\n",
      "The Free Software Foundation (FSF) is a non-profit corporation founded by \n",
      "\n",
      "-----------------------------------\n",
      "\n"
     ]
    }
   ],
   "source": [
    "make_query(doc_term_mat_processed, vectorizer, texts, \"software development internet technology\")"
   ]
  }
 ],
 "metadata": {
  "kernelspec": {
   "display_name": "Python 3.8.10 64-bit",
   "language": "python",
   "name": "python3810jvsc74a57bd0916dbcbb3f70747c44a77c7bcd40155683ae19c65e1c03b4aa3499c5328201f1"
  },
  "language_info": {
   "codemirror_mode": {
    "name": "ipython",
    "version": 3
   },
   "file_extension": ".py",
   "mimetype": "text/x-python",
   "name": "python",
   "nbconvert_exporter": "python",
   "pygments_lexer": "ipython3",
   "version": "3.8.10"
  }
 },
 "nbformat": 4,
 "nbformat_minor": 5
}
