{
 "cells": [
  {
   "cell_type": "markdown",
   "id": "69d9ffe4",
   "metadata": {},
   "source": [
    "# Approximating roots of functions\n",
    "We will use bisection, Newton's method and secant's method to approximate roots."
   ]
  },
  {
   "cell_type": "code",
   "execution_count": 195,
   "id": "f3380062",
   "metadata": {},
   "outputs": [],
   "source": [
    "import math\n",
    "import matplotlib.pyplot as plt\n",
    "from mpmath import mp, mpf\n",
    "\n",
    "mp.dps = 50"
   ]
  },
  {
   "cell_type": "code",
   "execution_count": 177,
   "id": "73b7e392",
   "metadata": {},
   "outputs": [],
   "source": [
    "def f1(x): # [3/2 PI, 2PI]\n",
    "    return mp.cos(x) * mp.cosh(x) - 1\n",
    "\n",
    "def f2(x): # [0, PI/2]\n",
    "    if x == 0: return 0\n",
    "    return 1/x - mp.tan(x)\n",
    "\n",
    "def f3(x): # [1, 3]\n",
    "    return 2**(-x) + mp.exp(x) + 2 * mp.cos(x) - 6"
   ]
  },
  {
   "cell_type": "code",
   "execution_count": 178,
   "id": "1d803ce2",
   "metadata": {},
   "outputs": [
    {
     "data": {
      "text/plain": [
       "[<matplotlib.lines.Line2D at 0x7f7b0d1ada00>]"
      ]
     },
     "execution_count": 178,
     "metadata": {},
     "output_type": "execute_result"
    },
    {
     "data": {
      "image/png": "[encoded data removed]",
      "text/plain": [
       "<Figure size 432x288 with 1 Axes>"
      ]
     },
     "metadata": {
      "needs_background": "light"
     },
     "output_type": "display_data"
    }
   ],
   "source": [
    "x = [0.001 * i for i in range(-1000, 8000)]\n",
    "y = [f1(i) for i in x]\n",
    "\n",
    "plt.plot(x, y)"
   ]
  },
  {
   "cell_type": "code",
   "execution_count": 179,
   "id": "a1dd8c0f",
   "metadata": {},
   "outputs": [
    {
     "data": {
      "text/plain": [
       "[<matplotlib.lines.Line2D at 0x7f7b0cf86ca0>]"
      ]
     },
     "execution_count": 179,
     "metadata": {},
     "output_type": "execute_result"
    },
    {
     "data": {
      "image/png": "[encoded data removed]",
      "text/plain": [
       "<Figure size 432x288 with 1 Axes>"
      ]
     },
     "metadata": {
      "needs_background": "light"
     },
     "output_type": "display_data"
    }
   ],
   "source": [
    "x = [0.001 * i for i in range(-1000, 8000)]\n",
    "y = [f2(i) for i in x]\n",
    "\n",
    "plt.plot(x, y)"
   ]
  },
  {
   "cell_type": "code",
   "execution_count": 180,
   "id": "3289897c",
   "metadata": {},
   "outputs": [
    {
     "data": {
      "text/plain": [
       "[<matplotlib.lines.Line2D at 0x7f7b0ce99df0>]"
      ]
     },
     "execution_count": 180,
     "metadata": {},
     "output_type": "execute_result"
    },
    {
     "data": {
      "image/png": "[encoded data removed]",
      "text/plain": [
       "<Figure size 432x288 with 1 Axes>"
      ]
     },
     "metadata": {
      "needs_background": "light"
     },
     "output_type": "display_data"
    }
   ],
   "source": [
    "x = [0.001 * i for i in range(-1000, 3000)]\n",
    "y = [f3(i) for i in x]\n",
    "\n",
    "plt.plot(x, y)"
   ]
  },
  {
   "cell_type": "markdown",
   "id": "2f7d136f",
   "metadata": {},
   "source": [
    "## Bisection"
   ]
  },
  {
   "cell_type": "code",
   "execution_count": 181,
   "id": "4af04152",
   "metadata": {},
   "outputs": [],
   "source": [
    "# near zero \n",
    "\n",
    "def fun_mul_negative(fun, x1, x2):\n",
    "    return (fun(x1) < 0 and fun(x2) > 0) or (fun(x1) > 0 and fun(x2) < 0)"
   ]
  },
  {
   "cell_type": "code",
   "execution_count": 189,
   "id": "57ed4399",
   "metadata": {},
   "outputs": [],
   "source": [
    "def bisection_delta(fun, a, b, delta_a_b):\n",
    "    \n",
    "    mid = mpf( (a+b)/2 )\n",
    "    iter_count = 0\n",
    "    \n",
    "    while abs(a - b) > delta_a_b:\n",
    "        mid = mpf( (a+b)/2 )\n",
    "        iter_count += 1\n",
    "        if fun_mul_negative(fun, a, mid):\n",
    "            b = mid\n",
    "        \n",
    "        else:\n",
    "            a = mid\n",
    "        \n",
    "    return mid, iter_count\n",
    "\n",
    "def bisection_epsilon(fun, a, b, epsilon):\n",
    "    \n",
    "    mid = mpf((a+b)/2)\n",
    "    iter_count = 0\n",
    "    \n",
    "    while abs(fun(mid)) > epsilon:\n",
    "        mid = (a+b)/2\n",
    "        iter_count += 1\n",
    "        if fun_mul_negative(fun, a, mid):\n",
    "            b = mid\n",
    "        \n",
    "        else:\n",
    "            a = mid\n",
    "        \n",
    "    return (a+b)/2, iter_count  "
   ]
  },
  {
   "cell_type": "code",
   "execution_count": 213,
   "id": "bcc7a8fd",
   "metadata": {},
   "outputs": [
    {
     "data": {
      "text/plain": [
       "(mpf('4.7300407448627040260240481008338848198983418007067849'), 164)"
      ]
     },
     "execution_count": 213,
     "metadata": {},
     "output_type": "execute_result"
    }
   ],
   "source": [
    "# f1\n",
    "bisection_delta(f1, 3/2 * math.pi, 2 * math.pi, 1/mpf(10**49) )"
   ]
  },
  {
   "cell_type": "code",
   "execution_count": 224,
   "id": "2cfe7298",
   "metadata": {},
   "outputs": [
    {
     "data": {
      "text/plain": [
       "(mpf('0.86033358901937976248389342413765972892687343427382548'), 107)"
      ]
     },
     "execution_count": 224,
     "metadata": {},
     "output_type": "execute_result"
    }
   ],
   "source": [
    "# f2\n",
    "bisection_delta(f2, epsilon, math.pi/2, 1/mpf(10**32))"
   ]
  },
  {
   "cell_type": "code",
   "execution_count": 192,
   "id": "1551fd6e",
   "metadata": {},
   "outputs": [
    {
     "data": {
      "text/plain": [
       "(mpf('1.829383601933848817136212946814150233081591'), 108)"
      ]
     },
     "execution_count": 192,
     "metadata": {},
     "output_type": "execute_result"
    }
   ],
   "source": [
    "# f3\n",
    "bisection_delta(f3, 1, 3, 1/mpf(10**32))"
   ]
  },
  {
   "cell_type": "markdown",
   "id": "7504ec61",
   "metadata": {},
   "source": [
    "## Newton's method"
   ]
  },
  {
   "cell_type": "code",
   "execution_count": 214,
   "id": "dea9cc90",
   "metadata": {},
   "outputs": [],
   "source": [
    "def f1_der(x):\n",
    "    return mp.cos(x) * mp.sinh(x) - mp.sin(x)*mp.cosh(x) \n",
    "def f2_der(x):\n",
    "    return -1/x**2 - mp.sec(x)**2\n",
    "def f3_der(x):\n",
    "    return - 2**(-x) * mp.ln(x) + mp.exp(x) - 2 * mp.sin(x)"
   ]
  },
  {
   "cell_type": "code",
   "execution_count": 215,
   "id": "684ec7db",
   "metadata": {},
   "outputs": [],
   "source": [
    "def newtons_method(fun, derivative_fun, x0, max_iter, epsilon):\n",
    "    iter_count = 0\n",
    "    diff = epsilon\n",
    "    \n",
    "    while iter_count < max_iter and diff >= epsilon:\n",
    "        temp = x0\n",
    "        x0 = x0 - fun(x0)/derivative_fun(x0)\n",
    "        diff = abs(x0 - temp)\n",
    "        iter_count += 1\n",
    "        \n",
    "    return x0, iter_count\n",
    "        "
   ]
  },
  {
   "cell_type": "code",
   "execution_count": 225,
   "id": "ef32e106",
   "metadata": {},
   "outputs": [
    {
     "data": {
      "text/plain": [
       "(mpf('4.7300407448627040260240481008338848198983418007068491'), 5)"
      ]
     },
     "execution_count": 225,
     "metadata": {},
     "output_type": "execute_result"
    }
   ],
   "source": [
    "# f1\n",
    "newtons_method(f1, f1_der, 3/2 * math.pi, 200, 1/mpf(10**24) )"
   ]
  },
  {
   "cell_type": "code",
   "execution_count": 226,
   "id": "5698b755",
   "metadata": {},
   "outputs": [
    {
     "data": {
      "text/plain": [
       "(mpf('0.86033358901937976248389342413766233341188436323765412'), 61)"
      ]
     },
     "execution_count": 226,
     "metadata": {},
     "output_type": "execute_result"
    }
   ],
   "source": [
    "# f2\n",
    "newtons_method(f2, f2_der,  math.pi/2, 200, 1/mpf(10**49) )"
   ]
  },
  {
   "cell_type": "code",
   "execution_count": 227,
   "id": "fc7285c7",
   "metadata": {},
   "outputs": [
    {
     "data": {
      "text/plain": [
       "(mpf('1.8293836019338488171362129468141507912940870105910678'), 27)"
      ]
     },
     "execution_count": 227,
     "metadata": {},
     "output_type": "execute_result"
    }
   ],
   "source": [
    "# f3\n",
    "newtons_method(f3, f3_der, 1, 200, 1/mpf(10**49) )"
   ]
  },
  {
   "cell_type": "markdown",
   "id": "22b2c85e",
   "metadata": {},
   "source": [
    "## Secant method"
   ]
  },
  {
   "cell_type": "code",
   "execution_count": 230,
   "id": "3bbbfaf0",
   "metadata": {},
   "outputs": [],
   "source": [
    "def seccant_method(fun, x_n, x_prev, epsilon):\n",
    "    iter_count = 0\n",
    "    diff = epsilon\n",
    "    \n",
    "    while diff >= epsilon:\n",
    "        temp = x_n\n",
    "        x_n = (fun(x_n)*x_prev - fun(x_prev)*x_n)/(fun(x_n) - fun(x_prev))\n",
    "        x_prev = temp\n",
    "        diff = abs(x_n - temp)\n",
    "        iter_count += 1\n",
    "        \n",
    "    return x_n, iter_count"
   ]
  },
  {
   "cell_type": "code",
   "execution_count": 233,
   "id": "7a56287d",
   "metadata": {},
   "outputs": [
    {
     "data": {
      "text/plain": [
       "(mpf('4.7300407448627040260240481008338848198976623699013731'), 7)"
      ]
     },
     "execution_count": 233,
     "metadata": {},
     "output_type": "execute_result"
    }
   ],
   "source": [
    "# f1\n",
    "seccant_method(f1, 3/2 * math.pi, 2 * math.pi, 1/mpf(10**24) )"
   ]
  },
  {
   "cell_type": "code",
   "execution_count": 234,
   "id": "5eb3e24d",
   "metadata": {},
   "outputs": [
    {
     "data": {
      "text/plain": [
       "(mpf('0.0'), 1)"
      ]
     },
     "execution_count": 234,
     "metadata": {},
     "output_type": "execute_result"
    }
   ],
   "source": [
    "# f2\n",
    "seccant_method(f2, 0, math.pi/2, 1/mpf(10**24) )"
   ]
  },
  {
   "cell_type": "code",
   "execution_count": 235,
   "id": "e057fbe4",
   "metadata": {},
   "outputs": [
    {
     "data": {
      "text/plain": [
       "(mpf('1.8293836019338488171362129468141507912940870105910678'), 13)"
      ]
     },
     "execution_count": 235,
     "metadata": {},
     "output_type": "execute_result"
    }
   ],
   "source": [
    "# f3\n",
    "seccant_method(f3, 1,3 , 1/mpf(10**24) )"
   ]
  }
 ],
 "metadata": {
  "kernelspec": {
   "display_name": "Python 3.8.10 64-bit",
   "language": "python",
   "name": "python3810jvsc74a57bd0916dbcbb3f70747c44a77c7bcd40155683ae19c65e1c03b4aa3499c5328201f1"
  },
  "language_info": {
   "codemirror_mode": {
    "name": "ipython",
    "version": 3
   },
   "file_extension": ".py",
   "mimetype": "text/x-python",
   "name": "python",
   "nbconvert_exporter": "python",
   "pygments_lexer": "ipython3",
   "version": "3.8.10"
  }
 },
 "nbformat": 4,
 "nbformat_minor": 5
}
