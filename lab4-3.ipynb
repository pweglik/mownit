{
 "cells": [
  {
   "cell_type": "code",
   "execution_count": 1,
   "id": "ba7710f2",
   "metadata": {},
   "outputs": [],
   "source": [
    "import numpy as np\n",
    "from copy import deepcopy"
   ]
  },
  {
   "cell_type": "code",
   "execution_count": 2,
   "id": "f8ef4130",
   "metadata": {},
   "outputs": [],
   "source": [
    "def cost_function(board):\n",
    "    cost: int = 0\n",
    "    \n",
    "    for i in range(9):\n",
    "        # columns\n",
    "        cost += (9 - np.unique(board[:,i]).size)\n",
    "        # rows\n",
    "        cost += (9 - np.unique(board[i, :]).size)\n",
    "    \n",
    "    return cost\n",
    "\n",
    "# temperature function\n",
    "def temp_function(k):\n",
    "    return 1/np.exp(k/10000)\n",
    "\n",
    "# probability that we take solution even if it is worse\n",
    "def acceptance_function(T, energy_difference):\n",
    "    if energy_difference < 0:\n",
    "        return 1 # always go down a gradient if found a way\n",
    "    return 1/(1 + np.exp(energy_difference/T))"
   ]
  },
  {
   "cell_type": "code",
   "execution_count": 3,
   "id": "94283192",
   "metadata": {},
   "outputs": [],
   "source": [
    "def fill_board(board):\n",
    "    for i in range(9):\n",
    "        # get entries ont present in 3x3 block\n",
    "        not_present = [el for el in range(1, 10) if el not in np.unique(board[i//3 * 3 : i//3 * 3 + 3, i % 3 * 3 : i % 3 * 3 + 3])]\n",
    "        counter = 0\n",
    "        for j in range(9):\n",
    "            if board[i//3 * 3 + j // 3, i % 3 * 3 + j % 3] == 0:\n",
    "                board[i//3 * 3 + j // 3, i % 3 * 3 + j % 3] = not_present[counter]\n",
    "                counter += 1\n",
    "                \n",
    "    return board"
   ]
  },
  {
   "cell_type": "code",
   "execution_count": 4,
   "id": "2d292584",
   "metadata": {},
   "outputs": [],
   "source": [
    "def swap_cells(board, initial_board, swap_positions = None):\n",
    "    # if positions is None we will generate them randomly\n",
    "    \n",
    "    if swap_positions == None:\n",
    "        # sqaure index\n",
    "        i = np.random.randint(0, 9, 1)\n",
    "        # position in square\n",
    "        j = np.random.randint(0, 9, 2)\n",
    "\n",
    "        swap_positions = [(i//3 * 3 + j[0] // 3, i % 3 * 3 + j[0] % 3), \n",
    "                          (i//3 * 3 + j[1] // 3, i % 3 * 3 + j[1] % 3)]\n",
    "    \n",
    "    while initial_board[swap_positions[0]] != 0 or initial_board[swap_positions[1]] != 0:\n",
    "                \n",
    "        # sqaure index\n",
    "        i = np.random.randint(0, 9, 1)\n",
    "        # position in square\n",
    "        j = np.random.randint(0, 9, 2)\n",
    "\n",
    "        swap_positions = [(i//3 * 3 + j[0] // 3, i % 3 * 3 + j[0] % 3), \n",
    "                          (i//3 * 3 + j[1] // 3, i % 3 * 3 + j[1] % 3)]\n",
    "            \n",
    "    board[swap_positions[0]], board[swap_positions[1]] = board[swap_positions[1]], board[swap_positions[0]]\n",
    "    \n",
    "    return swap_positions[0], swap_positions[1]"
   ]
  },
  {
   "cell_type": "code",
   "execution_count": 5,
   "id": "8050dc4a",
   "metadata": {},
   "outputs": [],
   "source": [
    "# main function\n",
    "def annealing(board, max_steps = 10000, costs = []):\n",
    "    correct_board = deepcopy(board)\n",
    "    fill_board(correct_board)\n",
    "    T: float = -1\n",
    "    current_energy: float = cost_function(correct_board)\n",
    "    next_energy: float = -1\n",
    "    best_energy: float = current_energy\n",
    "    best_board = correct_board\n",
    "    for k in range(max_steps):\n",
    "        T = temp_function(k)\n",
    "        swap_positions: Tuple[int, int] = swap_cells(correct_board, board)\n",
    "        next_energy = cost_function(correct_board)\n",
    "\n",
    "        # if new state not accepted swap back\n",
    "        if not (acceptance_function(T, next_energy - current_energy) > np.random.uniform(0, 1)):\n",
    "            swap_cells(correct_board, board, swap_positions)\n",
    "            # current energy stays the same\n",
    "        else:\n",
    "            current_energy = next_energy\n",
    "\n",
    "        if best_energy > current_energy:\n",
    "            best_energy = current_energy\n",
    "            best_board = correct_board\n",
    "        \n",
    "        if best_energy == 0:\n",
    "            print(\"SOLVED!!!\")\n",
    "            break\n",
    "        \n",
    "        if k % 1000 == 0:\n",
    "            print(f'k: {k} energy: {best_energy}')\n",
    "           \n",
    "    correct_board = best_board\n",
    "    return correct_board"
   ]
  },
  {
   "cell_type": "code",
   "execution_count": 6,
   "id": "08e69328",
   "metadata": {},
   "outputs": [],
   "source": [
    "board = np.array([\n",
    "                       [5, 3, 0, 0, 7, 0, 0, 0, 0],\n",
    "                       [6, 0, 0, 1, 9, 5, 0, 0, 0],\n",
    "                       [0, 9, 8, 0, 0, 0, 0, 6, 0],\n",
    "                       [8, 0, 0, 0, 6, 0, 0, 0, 3],\n",
    "                       [4, 0, 0, 8, 0, 3, 0, 0, 1],\n",
    "                       [7, 0, 0, 0, 2, 0, 0, 0, 6],\n",
    "                       [0, 6, 0, 0, 0, 0, 2, 8, 0],\n",
    "                       [0, 0, 0, 4, 1, 9, 0, 0, 5],\n",
    "                       [0, 0, 0, 0, 8, 0, 0, 7, 9]\n",
    "])"
   ]
  },
  {
   "cell_type": "code",
   "execution_count": 7,
   "id": "16d6e75d",
   "metadata": {},
   "outputs": [
    {
     "name": "stdout",
     "output_type": "stream",
     "text": [
      "k: 0 energy: 53\n",
      "k: 1000 energy: 14\n",
      "k: 2000 energy: 13\n",
      "k: 3000 energy: 11\n",
      "k: 4000 energy: 11\n",
      "k: 5000 energy: 4\n",
      "k: 6000 energy: 4\n",
      "k: 7000 energy: 4\n",
      "k: 8000 energy: 4\n",
      "k: 9000 energy: 2\n",
      "k: 10000 energy: 2\n",
      "SOLVED!!!\n"
     ]
    },
    {
     "data": {
      "text/plain": [
       "array([[5, 3, 4, 6, 7, 8, 9, 1, 2],\n",
       "       [6, 7, 2, 1, 9, 5, 3, 4, 8],\n",
       "       [1, 9, 8, 3, 4, 2, 5, 6, 7],\n",
       "       [8, 5, 9, 7, 6, 1, 4, 2, 3],\n",
       "       [4, 2, 6, 8, 5, 3, 7, 9, 1],\n",
       "       [7, 1, 3, 9, 2, 4, 8, 5, 6],\n",
       "       [9, 6, 1, 5, 3, 7, 2, 8, 4],\n",
       "       [2, 8, 7, 4, 1, 9, 6, 3, 5],\n",
       "       [3, 4, 5, 2, 8, 6, 1, 7, 9]])"
      ]
     },
     "execution_count": 7,
     "metadata": {},
     "output_type": "execute_result"
    }
   ],
   "source": [
    "annealing(board, max_steps= 30000)"
   ]
  },
  {
   "cell_type": "code",
   "execution_count": 8,
   "id": "b93e4214",
   "metadata": {},
   "outputs": [],
   "source": [
    "hard_board = np.array([\n",
    "                       [0, 0, 1, 0, 6, 0, 2, 0, 0],\n",
    "                       [0, 0, 0, 8, 0, 7, 0, 0, 0],\n",
    "                       [4, 0, 0, 0, 9, 0, 0, 0, 3],\n",
    "                       [0, 1, 0, 0, 8, 0, 0, 3, 0],\n",
    "                       [5, 0, 7, 2, 0, 3, 9, 0, 1],\n",
    "                       [0, 9, 0, 0, 5, 0, 0, 2, 0],\n",
    "                       [7, 0, 0, 0, 2, 0, 0, 0, 5],\n",
    "                       [0, 0, 0, 6, 0, 8, 0, 0, 0],\n",
    "                       [0, 0, 2, 0, 3, 0, 6, 0, 0]\n",
    "])"
   ]
  },
  {
   "cell_type": "code",
   "execution_count": 9,
   "id": "c07fb896",
   "metadata": {},
   "outputs": [
    {
     "name": "stdout",
     "output_type": "stream",
     "text": [
      "k: 0 energy: 47\n",
      "k: 1000 energy: 18\n",
      "k: 2000 energy: 12\n",
      "k: 3000 energy: 12\n",
      "k: 4000 energy: 12\n",
      "k: 5000 energy: 11\n",
      "k: 6000 energy: 9\n",
      "k: 7000 energy: 4\n",
      "k: 8000 energy: 4\n",
      "k: 9000 energy: 4\n",
      "k: 10000 energy: 4\n",
      "k: 11000 energy: 4\n",
      "k: 12000 energy: 4\n",
      "k: 13000 energy: 4\n",
      "k: 14000 energy: 4\n",
      "k: 15000 energy: 4\n",
      "k: 16000 energy: 2\n",
      "k: 17000 energy: 2\n",
      "k: 18000 energy: 2\n",
      "k: 19000 energy: 2\n",
      "k: 20000 energy: 2\n",
      "k: 21000 energy: 2\n",
      "k: 22000 energy: 2\n",
      "k: 23000 energy: 2\n",
      "k: 24000 energy: 2\n",
      "k: 25000 energy: 2\n",
      "k: 26000 energy: 2\n",
      "k: 27000 energy: 2\n",
      "k: 28000 energy: 2\n",
      "k: 29000 energy: 2\n"
     ]
    },
    {
     "data": {
      "text/plain": [
       "array([[8, 5, 1, 3, 6, 4, 2, 9, 7],\n",
       "       [3, 2, 9, 8, 1, 7, 4, 5, 6],\n",
       "       [4, 7, 6, 5, 9, 2, 1, 8, 3],\n",
       "       [2, 1, 4, 9, 8, 6, 5, 3, 7],\n",
       "       [5, 8, 7, 2, 4, 3, 9, 6, 1],\n",
       "       [6, 9, 3, 7, 5, 1, 8, 2, 4],\n",
       "       [7, 6, 8, 4, 2, 9, 3, 1, 5],\n",
       "       [1, 3, 5, 6, 7, 8, 2, 4, 9],\n",
       "       [9, 4, 2, 1, 3, 5, 6, 7, 8]])"
      ]
     },
     "execution_count": 9,
     "metadata": {},
     "output_type": "execute_result"
    }
   ],
   "source": [
    "annealing(hard_board, max_steps= 30000)"
   ]
  },
  {
   "cell_type": "markdown",
   "id": "9f5e6ec3",
   "metadata": {},
   "source": [
    "**Wnioski**: dla bardziej skomplikowanych łamigłówek program znajduje minimum lokalne, nie udaje mu się jednak osiągnąć idealnego rozwiązania."
   ]
  }
 ],
 "metadata": {
  "kernelspec": {
   "display_name": "Python 3.8.10 64-bit",
   "language": "python",
   "name": "python3810jvsc74a57bd0916dbcbb3f70747c44a77c7bcd40155683ae19c65e1c03b4aa3499c5328201f1"
  },
  "language_info": {
   "codemirror_mode": {
    "name": "ipython",
    "version": 3
   },
   "file_extension": ".py",
   "mimetype": "text/x-python",
   "name": "python",
   "nbconvert_exporter": "python",
   "pygments_lexer": "ipython3",
   "version": "3.8.10"
  }
 },
 "nbformat": 4,
 "nbformat_minor": 5
}
