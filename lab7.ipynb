{
 "cells": [
  {
   "cell_type": "markdown",
   "id": "902eda40",
   "metadata": {},
   "source": [
    "# Dekompozycja macierzy\n",
    "\n",
    "### Wartości własne"
   ]
  },
  {
   "cell_type": "code",
   "execution_count": 105,
   "id": "8751b775",
   "metadata": {},
   "outputs": [],
   "source": [
    "import numpy as np\n",
    "from typing import Tuple\n",
    "import matplotlib.pyplot as plt\n",
    "import time\n",
    "from scipy.sparse.linalg import eigs\n",
    "from scipy.linalg import lu_factor, lu_solve"
   ]
  },
  {
   "cell_type": "markdown",
   "id": "5136f80c",
   "metadata": {},
   "source": [
    "### Power method"
   ]
  },
  {
   "cell_type": "code",
   "execution_count": 79,
   "id": "56f4bbd2",
   "metadata": {},
   "outputs": [],
   "source": [
    "# power iterations method\n",
    "def dominant_eigenvalue_eigenvector(A: np.ndarray, max_iter: int = 1000, epsilon: float = 10**-10) -> Tuple[np.float64, np.ndarray]:\n",
    "    n: int = A.shape[0]\n",
    "    result: np.ndarray = np.ones(n)\n",
    "    prev_result:np.ndarray = np.zeros(n)\n",
    "    dominant_eigenvalue: float = 0\n",
    "        \n",
    "    iter_count = 0\n",
    "    while iter_count < max_iter and np.linalg.norm(prev_result - result) > epsilon:\n",
    "        prev_result = result\n",
    "        result = A @ result\n",
    "        dominant_eigenvalue = np.abs(result).max()\n",
    "        result = result / dominant_eigenvalue\n",
    "        iter_count += 1 \n",
    "        \n",
    "    print(iter_count, np.linalg.norm(prev_result - result))\n",
    "    return dominant_eigenvalue, result / np.linalg.norm(result)"
   ]
  },
  {
   "cell_type": "code",
   "execution_count": 80,
   "id": "b3fb0e6e",
   "metadata": {},
   "outputs": [],
   "source": [
    "# examples\n",
    "arr = np.array([[2, 0, 0],\n",
    "               [0, 3, 4],\n",
    "               [0, 4, 9]])"
   ]
  },
  {
   "cell_type": "code",
   "execution_count": 81,
   "id": "d2cc603e",
   "metadata": {},
   "outputs": [
    {
     "name": "stdout",
     "output_type": "stream",
     "text": [
      "15 2.9416495039891334e-11\n"
     ]
    },
    {
     "data": {
      "text/plain": [
       "(11.000000000000004, array([5.84686956e-12, 4.47213595e-01, 8.94427191e-01]))"
      ]
     },
     "execution_count": 81,
     "metadata": {},
     "output_type": "execute_result"
    }
   ],
   "source": [
    "dominant_eigenvalue_eigenvector(arr)"
   ]
  },
  {
   "cell_type": "code",
   "execution_count": 94,
   "id": "3e384ff9",
   "metadata": {},
   "outputs": [
    {
     "name": "stdout",
     "output_type": "stream",
     "text": [
      "100 10 4.834831301830572e-12\n",
      "200 9 6.085075144546989e-12\n",
      "300 8 2.4443775183697246e-11\n",
      "400 8 7.407939838305671e-12\n",
      "500 8 4.8062650815505385e-12\n",
      "600 7 8.679208196655037e-11\n",
      "700 7 9.030030672374505e-11\n",
      "800 7 3.701513791946543e-11\n",
      "900 7 3.2745285346376714e-11\n",
      "1000 7 4.14604135826033e-11\n"
     ]
    }
   ],
   "source": [
    "N = 1001\n",
    "jump = 100\n",
    "\n",
    "custom_times = []\n",
    "lib_times = []\n",
    "\n",
    "for n in range (100, N, jump):\n",
    "    print(n, end=' ')\n",
    "    A = np.random.rand(n,n)\n",
    "    # custom\n",
    "    start = time.time()\n",
    "    dom1 = dominant_eigenvalue_eigenvector(A)[0]\n",
    "    custom_times.append(time.time() - start)\n",
    "    \n",
    "    # library function\n",
    "    start = time.time()\n",
    "    dom2 = eigs(A, k = 1, which = 'LM')[0]\n",
    "    lib_times.append(time.time() - start)\n",
    "    \n",
    "    assert np.abs(dom1 - dom2) < 10**-6"
   ]
  },
  {
   "cell_type": "code",
   "execution_count": 95,
   "id": "65277b64",
   "metadata": {},
   "outputs": [
    {
     "data": {
      "image/png": "[encoded data removed]",
      "text/plain": [
       "<Figure size 432x288 with 1 Axes>"
      ]
     },
     "metadata": {
      "needs_background": "light"
     },
     "output_type": "display_data"
    }
   ],
   "source": [
    "plt.plot(list(range (100, N, jump)), custom_times, label = \"Custom\")\n",
    "plt.plot(list(range (100, N, jump)), lib_times, label = \"Library\")\n",
    "plt.legend(loc=\"upper left\")\n",
    "plt.show()"
   ]
  },
  {
   "cell_type": "markdown",
   "id": "11816453",
   "metadata": {},
   "source": [
    "**Wniosek:** liczenie wszystkich wartości jest bez sensu, nawet jeśli używamy numpy"
   ]
  },
  {
   "cell_type": "markdown",
   "id": "0e9562c3",
   "metadata": {},
   "source": [
    "### Inverse power method"
   ]
  },
  {
   "cell_type": "code",
   "execution_count": 123,
   "id": "41a5052a",
   "metadata": {},
   "outputs": [],
   "source": [
    "# power iterations method\n",
    "def inverse_power_method(A: np.ndarray, max_iter: int = 1000, epsilon: float = 10**-10) -> Tuple[np.float64, np.ndarray]:\n",
    "    # create initial guess by one iteration of plain power method\n",
    "    n: int = A.shape[0]\n",
    "    power_result: np.ndarray = np.ones(n)\n",
    "    dominant_eigenvalue: float = 0\n",
    "    power_result = A @ power_result\n",
    "    dominant_eigenvalue = np.abs(power_result).max()\n",
    "    power_result = power_result / dominant_eigenvalue\n",
    "    \n",
    "    # auxillary matrix\n",
    "    B = np.linalg.inv(A - dominant_eigenvalue * np.identity(n))\n",
    "#     lu, piv = lu_factor(B)\n",
    "    \n",
    "    result: np.ndarray = np.ones(n)\n",
    "    prev_result: np.ndarray = np.zeros(n)\n",
    "    iter_count = 0\n",
    "    while iter_count < max_iter and np.linalg.norm(prev_result - result) > epsilon:\n",
    "        prev_result = result\n",
    "        result = B @ result\n",
    "        dominant_eigenvalue = np.abs(result).max()\n",
    "        result = result / dominant_eigenvalue\n",
    "        iter_count += 1 \n",
    "        \n",
    "    print(iter_count, np.linalg.norm(prev_result - result))\n",
    "    return dominant_eigenvalue, result / np.linalg.norm(result)\n"
   ]
  },
  {
   "cell_type": "code",
   "execution_count": 124,
   "id": "3a9a7469",
   "metadata": {},
   "outputs": [
    {
     "name": "stdout",
     "output_type": "stream",
     "text": [
      "100 9 5.718421282914507e-11\n",
      "100 1000 17.54955962127968\n"
     ]
    },
    {
     "ename": "AssertionError",
     "evalue": "",
     "output_type": "error",
     "traceback": [
      "\u001b[0;31m---------------------------------------------------------------------------\u001b[0m",
      "\u001b[0;31mAssertionError\u001b[0m                            Traceback (most recent call last)",
      "\u001b[0;32m/tmp/ipykernel_5817/4132187346.py\u001b[0m in \u001b[0;36m<module>\u001b[0;34m\u001b[0m\n\u001b[1;32m     21\u001b[0m \u001b[0;34m\u001b[0m\u001b[0m\n\u001b[1;32m     22\u001b[0m \u001b[0;31m#     print(dom1, dom2)\u001b[0m\u001b[0;34m\u001b[0m\u001b[0;34m\u001b[0m\u001b[0;34m\u001b[0m\u001b[0m\n\u001b[0;32m---> 23\u001b[0;31m     \u001b[0;32massert\u001b[0m \u001b[0mnp\u001b[0m\u001b[0;34m.\u001b[0m\u001b[0mabs\u001b[0m\u001b[0;34m(\u001b[0m\u001b[0mdom1\u001b[0m \u001b[0;34m-\u001b[0m \u001b[0mdom2\u001b[0m\u001b[0;34m)\u001b[0m \u001b[0;34m<\u001b[0m \u001b[0;36m10\u001b[0m\u001b[0;34m**\u001b[0m\u001b[0;34m-\u001b[0m\u001b[0;36m6\u001b[0m\u001b[0;34m\u001b[0m\u001b[0;34m\u001b[0m\u001b[0m\n\u001b[0m",
      "\u001b[0;31mAssertionError\u001b[0m: "
     ]
    }
   ],
   "source": [
    "N = 1001\n",
    "jump = 100\n",
    "\n",
    "plain_times = []\n",
    "inv_times = []\n",
    "\n",
    "for n in range (100, N, jump):\n",
    "    A = np.random.rand(n,n)\n",
    "    \n",
    "    print(n, end=' ')\n",
    "    # plain\n",
    "    start = time.time()\n",
    "    dom1 = dominant_eigenvalue_eigenvector(A)[0]\n",
    "    plain_times.append(time.time() - start)\n",
    "    \n",
    "    print(n, end=' ')\n",
    "    # inv \n",
    "    start = time.time()\n",
    "    dom2 = inverse_power_method(A)[0]\n",
    "    inv_times.append(time.time() - start)\n",
    "    \n",
    "#     print(dom1, dom2)\n",
    "    assert np.abs(dom1 - dom2) < 10**-6"
   ]
  },
  {
   "cell_type": "code",
   "execution_count": null,
   "id": "133325b3",
   "metadata": {},
   "outputs": [],
   "source": [
    "plt.plot(list(range (100, N, jump)), plain_times, label = \"Plain power method\")\n",
    "plt.plot(list(range (100, N, jump)), inv_times, label = \"Inverse power method\")\n",
    "plt.legend(loc=\"upper left\")\n",
    "plt.show()"
   ]
  },
  {
   "cell_type": "code",
   "execution_count": null,
   "id": "fc7d1f79",
   "metadata": {},
   "outputs": [],
   "source": []
  },
  {
   "cell_type": "code",
   "execution_count": null,
   "id": "ac1bd466",
   "metadata": {},
   "outputs": [],
   "source": []
  },
  {
   "cell_type": "code",
   "execution_count": null,
   "id": "1a81be4b",
   "metadata": {},
   "outputs": [],
   "source": []
  },
  {
   "cell_type": "code",
   "execution_count": null,
   "id": "8395c445",
   "metadata": {},
   "outputs": [],
   "source": []
  },
  {
   "cell_type": "code",
   "execution_count": null,
   "id": "fbb7b3fc",
   "metadata": {},
   "outputs": [],
   "source": []
  },
  {
   "cell_type": "code",
   "execution_count": null,
   "id": "ce4ce7d6",
   "metadata": {},
   "outputs": [],
   "source": []
  }
 ],
 "metadata": {
  "kernelspec": {
   "display_name": "Python 3.8.10 64-bit",
   "language": "python",
   "name": "python3810jvsc74a57bd0916dbcbb3f70747c44a77c7bcd40155683ae19c65e1c03b4aa3499c5328201f1"
  },
  "language_info": {
   "codemirror_mode": {
    "name": "ipython",
    "version": 3
   },
   "file_extension": ".py",
   "mimetype": "text/x-python",
   "name": "python",
   "nbconvert_exporter": "python",
   "pygments_lexer": "ipython3",
   "version": "3.8.10"
  }
 },
 "nbformat": 4,
 "nbformat_minor": 5
}
