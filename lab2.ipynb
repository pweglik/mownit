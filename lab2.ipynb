{
 "cells": [
  {
   "cell_type": "markdown",
   "id": "0811f9d0",
   "metadata": {},
   "source": [
    "# Metody Obliczeniowe w Nauce i Technice\n",
    "## Laboratorium 2: Rozwiązywanie układów równań liniowych\n",
    "## Przemysław Węglik"
   ]
  },
  {
   "cell_type": "markdown",
   "id": "43926857",
   "metadata": {},
   "source": [
    "### Zadanie 1 - Metoda Gaussa-Jordana\n",
    "Napisz i sprawdź funkcję rozwiązującą układ równań liniowych $n × n$ metodą GaussaJordana z całkowitym poszukiwaniem elementu wiodącego. Dla dziesięciu różnych rozmiarów macierzy współczynników większych niż $500 × 500$ porównaj czasy działania\n",
    "zaimplementowanej funkcji z czasami uzyskanymi dla wybranych funkcji bibliotecznych."
   ]
  },
  {
   "cell_type": "code",
   "execution_count": 1,
   "id": "4ba6c65c",
   "metadata": {},
   "outputs": [],
   "source": [
    "import numpy as np\n",
    "from pyvis.network import Network\n",
    "import networkx as nx\n",
    "import random\n",
    "import math\n",
    "import time"
   ]
  },
  {
   "cell_type": "code",
   "execution_count": 2,
   "id": "57d1dcbd",
   "metadata": {},
   "outputs": [],
   "source": [
    "# partial pivoting\n",
    "def partial_pivot(array, col_index):\n",
    "    \"\"\"Args: array to pivot and column index to find pivot for\n",
    "    returns pivot for column with index col_index\"\"\"\n",
    "    found_pivot = np.argmax(array[:, col_index])\n",
    "    \n",
    "    temp = np.copy(array[found_pivot, :])\n",
    "\n",
    "    array[found_pivot, :] = array[col_index, :]\n",
    "    array[col_index, :] = temp\n",
    "    \n",
    "    return temp[col_index]\n",
    "\n",
    "def gj_elimination(A, b):\n",
    "    \"\"\"\n",
    "    Takes A matrix and b vector as argument\n",
    "    Return vector of solutions\n",
    "    \"\"\"\n",
    "    A_aug = np.c_[ A, b ]\n",
    "\n",
    "    # scaling\n",
    "    max_el = np.amax(np.absolute(A_aug), axis=1)\n",
    "\n",
    "    A_aug = A_aug / max_el[:, np.newaxis]\n",
    "\n",
    "    # Gaussian elimination\n",
    "\n",
    "    for row_index in range(A_aug.shape[0] - 1):\n",
    "        pivot_value = partial_pivot(A_aug, row_index)\n",
    "\n",
    "        multiplier =  - A_aug[row_index:, row_index] / pivot_value\n",
    "        multiplier[0] = 0 # set first row of multiplyer to zero soe it doesnt delete itself\n",
    "        multiplier = multiplier[:, np.newaxis]\n",
    "        temp = multiplier * A_aug[row_index, :]\n",
    "\n",
    "        A_aug[row_index:,:] = A_aug[row_index:,:] + temp\n",
    "\n",
    "    # continuation, elimination upwards\n",
    "    # going from lowest row to upper most\n",
    "    for row_index in range(A_aug.shape[0] - 1, 0, -1):\n",
    "\n",
    "        multiplier =  - A_aug[:row_index, row_index] / A_aug[row_index, row_index]\n",
    "\n",
    "        multiplier = multiplier[:, np.newaxis]\n",
    "        temp = multiplier * A_aug[row_index, :]\n",
    "\n",
    "        A_aug[:row_index,:] = A_aug[:row_index,:] + temp\n",
    "\n",
    "    # scale back to 1s at diagonal\n",
    "    A_aug = A_aug / np.diagonal(A_aug[:,:-1])[:, np.newaxis]\n",
    "\n",
    "    return A_aug[:, -1]"
   ]
  },
  {
   "cell_type": "code",
   "execution_count": 3,
   "id": "c9c5a01e",
   "metadata": {},
   "outputs": [
    {
     "data": {
      "text/plain": [
       "array([ 2.,  3., -1.])"
      ]
     },
     "execution_count": 3,
     "metadata": {},
     "output_type": "execute_result"
    }
   ],
   "source": [
    "A = np.array([[2, 1, -1], [-3, -1, 2], [-2, 1, 2]])\n",
    "b = [8, -11, -3]\n",
    "#solution = 2 3 -1\n",
    "gj_elimination(A, b)"
   ]
  },
  {
   "cell_type": "code",
   "execution_count": 4,
   "id": "8bca7eeb",
   "metadata": {},
   "outputs": [
    {
     "name": "stdout",
     "output_type": "stream",
     "text": [
      "n: 500\n",
      "Custom Time 0.21743249893188477\n",
      "Library Time 0.009248495101928711\n",
      "\n",
      "n: 600\n",
      "Custom Time 0.44058799743652344\n",
      "Library Time 0.007093667984008789\n",
      "\n",
      "n: 700\n",
      "Custom Time 0.7460465431213379\n",
      "Library Time 0.007922172546386719\n",
      "\n",
      "n: 800\n",
      "Custom Time 1.346130609512329\n",
      "Library Time 0.6078839302062988\n",
      "\n",
      "n: 900\n",
      "Custom Time 2.2280876636505127\n",
      "Library Time 0.03781843185424805\n",
      "\n",
      "n: 1000\n",
      "Custom Time 3.155705213546753\n",
      "Library Time 0.028905391693115234\n",
      "\n"
     ]
    }
   ],
   "source": [
    "for n in range(500, 1100, 100):\n",
    "    A = np.random.rand(n, n) * 10\n",
    "    b = np.random.rand(n)* 5\n",
    "    A = A.astype(int)\n",
    "    b = b.astype(int)\n",
    "    print(f'n: {n}')\n",
    "    start = time.time()\n",
    "    gj_elimination(A, b)\n",
    "    print(f'Custom Time {time.time() - start}')\n",
    "    start = time.time()\n",
    "    np.linalg.solve(A, b)\n",
    "    print(f'Library Time {time.time() - start}\\n')\n"
   ]
  },
  {
   "cell_type": "markdown",
   "id": "db2c0900",
   "metadata": {},
   "source": [
    "### Zadanie 2 Faktoryzacja LU\n",
    "Napisz i przetestuj funkcję dokonującą faktoryzacji $A = LU$ macierzy $A$ (bez poszukiwania elementu wiodącego). Sprawdź poprawność wyniku obliczając $||A − LU||$. Zadbaj\n",
    "o to żeby implementacja była in-situ. Elementy macierzy $L$ to współczynniki mnożenia\n",
    "umożliwiające wyzerowanie odpowiedniego współczynnika macierzy $A$ w trakcie procesu\n",
    "eliminacji."
   ]
  },
  {
   "cell_type": "code",
   "execution_count": 5,
   "id": "2e53e334",
   "metadata": {},
   "outputs": [],
   "source": [
    "def LU_decompsition(A):\n",
    "    n = A.shape[0]\n",
    "    for i in range(n):\n",
    "\n",
    "        for j in range(i):\n",
    "            LU[i][j] = (LU[i][j] - np.dot(LU[i, 0:j], LU[0:j,j])) / LU[j,j]\n",
    "\n",
    "        for j in range(i, n): \n",
    "            LU[i,j] = LU[i,j] - np.dot(LU[i,0:i], LU[0:i,j]);\n",
    "\n",
    "def LU_multiply(LU):\n",
    "    L = np.tril(LU)\n",
    "    U = np.triu(LU)\n",
    "    np.fill_diagonal(L, 1)\n",
    "    \n",
    "    return L @ U"
   ]
  },
  {
   "cell_type": "code",
   "execution_count": 6,
   "id": "ce903cd3",
   "metadata": {},
   "outputs": [],
   "source": [
    "LU = np.array([[2, -1, -2], [-4, 6, 3], [-4, -2, 8]])\n",
    "arr_copy = np.copy(LU)\n",
    "LU_decompsition(LU)"
   ]
  },
  {
   "cell_type": "code",
   "execution_count": 7,
   "id": "42a74785",
   "metadata": {},
   "outputs": [
    {
     "data": {
      "text/plain": [
       "array([[0, 0, 0],\n",
       "       [0, 0, 0],\n",
       "       [0, 0, 0]])"
      ]
     },
     "execution_count": 7,
     "metadata": {},
     "output_type": "execute_result"
    }
   ],
   "source": [
    "arr_copy - LU_multiply(LU)"
   ]
  },
  {
   "cell_type": "markdown",
   "id": "2e735efd",
   "metadata": {},
   "source": [
    "### Zadanie 3 Analiza obwodu elektrycznego - nadokreślony układ równań"
   ]
  },
  {
   "cell_type": "markdown",
   "id": "1ab2123f",
   "metadata": {},
   "source": [
    "Napisz program, który: <br />\n",
    "**a)** Wczytuje z pliku listę krawędzi grafu nieskierowanego ważonego opisującego obwód elektryczny. Wagi krawędzi określają opór fragmentu obwodu między dwoma\n",
    "węzłami. Wierzchołki grafu identyfikowane są przez liczby naturalne.<br />\n",
    "**b)** Wczytuje dodatkowo trójkę liczb $(s, t, E)$, przy czym para $(s, t)$ wskazuje między którymi węzłami sieci przyłożono siłę elektromotoryczną $E$. Opór wewnętrzny\n",
    "SEM można zaniedbać."
   ]
  },
  {
   "cell_type": "code",
   "execution_count": 8,
   "id": "b15b8bf2",
   "metadata": {},
   "outputs": [],
   "source": [
    "import networkx as nx\n",
    "from pyvis.network import Network\n",
    "\n",
    "def create_graph(filename):\n",
    "    G = nx.Graph()\n",
    "    s = -1\n",
    "    t = -1 \n",
    "    E = -1\n",
    "    with open(filename, \"r\") as file:\n",
    "        header = file.readline()\n",
    "        s, t, E = map(int, header.split(\" \"))\n",
    "        \n",
    "        for i in range(t):\n",
    "            G.add_node(i)\n",
    "        \n",
    "        lines = file.readlines()\n",
    "        for line in lines:\n",
    "            u, v, w = map(int, line.split(\" \"))\n",
    "            # value is just for plotting, sqrt is empirical for nice display\n",
    "            G.add_edge(u, v, weight = 1/w, value = np.sqrt(w))\n",
    "            G.add_edge(v, u, weight = 1/w, value = np.sqrt(w))\n",
    "            \n",
    "    return G, s, t, E\n",
    "            "
   ]
  },
  {
   "cell_type": "code",
   "execution_count": 9,
   "id": "4b683459",
   "metadata": {},
   "outputs": [
    {
     "data": {
      "text/html": [
       "\n",
       "        <iframe\n",
       "            width=\"400px\"\n",
       "            height=\"400px\"\n",
       "            src=\"nx.html\"\n",
       "            frameborder=\"0\"\n",
       "            allowfullscreen\n",
       "            \n",
       "        ></iframe>\n",
       "        "
      ],
      "text/plain": [
       "<IPython.lib.display.IFrame at 0x7f3a844dafa0>"
      ]
     },
     "execution_count": 9,
     "metadata": {},
     "output_type": "execute_result"
    }
   ],
   "source": [
    "graph, s, t, E = create_graph(\"data/simple\")\n",
    "\n",
    "nt = Network('400px', '400px', notebook=True)\n",
    "nt.from_nx(graph)\n",
    "nt.show('nx.html')"
   ]
  },
  {
   "cell_type": "markdown",
   "id": "50bd26bf",
   "metadata": {},
   "source": [
    "**c)** Wykorzystując prawa Kirchhoffa (albo metodę potencjałów węzłowych) znajduje\n",
    "natężenia prądu w każdej części obwodu i przedstawia je na rysunku w postaci\n",
    "grafu ważonego z etykietami (wizualizacja grafu wraz z kolorowymi krawędziami\n",
    "pokazującymi wartość natężenia prądu oraz jego kierunek)"
   ]
  },
  {
   "cell_type": "code",
   "execution_count": 10,
   "id": "f9ae26ee",
   "metadata": {},
   "outputs": [],
   "source": [
    "def fill_G_matrix(i, j, graph, n):\n",
    "    if (i == 0 and j == 0) or (i == n - 1 and j == n - 1):\n",
    "        return 1\n",
    "    \n",
    "    if i == 0 or i == n - 1:\n",
    "        return 0\n",
    "    \n",
    "    if i == j:\n",
    "        return sum([graph[i].get(k, {'weight': 0})['weight'] for k in range(n)])\n",
    "    \n",
    "    return -graph[i].get(j, {'weight': 0})['weight']\n",
    "\n",
    "def get_currents(graph, s, t, E):\n",
    "    n = t + 1\n",
    "    G = np.zeros((n, n))\n",
    "    for i in range(n):\n",
    "        for j in range(n):\n",
    "            G[i][j] = fill_G_matrix(i, j, graph, n)\n",
    "\n",
    "    known_V = np.zeros(n)\n",
    "    known_V[0] = E\n",
    "    V = gj_elimination(G, known_V)\n",
    "    \n",
    "    currents = nx.DiGraph()\n",
    "    currents.add_nodes_from(list(range(n)))\n",
    "    for i in range(n):\n",
    "        for j in range(n):\n",
    "            w = graph[i].get(j, {'weight': 0})['weight'] * (V[i] - V[j])\n",
    "            # stosujemy konwencje że dodatni prąd płynie z mniejszych nodów do większych\n",
    "            if w != 0 and i < j:\n",
    "\n",
    "                currents.add_edge(i, j, weight = w, value = np.sqrt(w))\n",
    "    \n",
    "    return currents\n",
    "\n",
    "def check_solution(currents, s, t):\n",
    "    n = t + 1\n",
    "    sum_s = 0\n",
    "    for i in range(n):\n",
    "        sum_s += currents[s].get(i, {'weight': 0})['weight']\n",
    "        \n",
    "    sum_t = 0\n",
    "    for i in range(n):\n",
    "        sum_t += currents[i].get(t, {'weight': 0})['weight']\n",
    "    \n",
    "    # if errors lesser than 0.1%\n",
    "    if abs(sum_s - sum_t)/sum_s < 10**(-3):\n",
    "        print(f'Correct solution! Current sum: {sum_s}')\n",
    "        return True\n",
    "    else:\n",
    "        print(f'Invalid solution! Currents from source: {sum_s}. Currents to target: {sum_t}')\n",
    "        return False"
   ]
  },
  {
   "cell_type": "markdown",
   "id": "2e4bdc95",
   "metadata": {},
   "source": [
    "#### Simple graph example"
   ]
  },
  {
   "cell_type": "code",
   "execution_count": 11,
   "id": "cae7c56c",
   "metadata": {},
   "outputs": [
    {
     "name": "stdout",
     "output_type": "stream",
     "text": [
      "Correct solution! Current sum: 1.5\n"
     ]
    },
    {
     "data": {
      "text/html": [
       "\n",
       "        <iframe\n",
       "            width=\"400px\"\n",
       "            height=\"400px\"\n",
       "            src=\"nx.html\"\n",
       "            frameborder=\"0\"\n",
       "            allowfullscreen\n",
       "            \n",
       "        ></iframe>\n",
       "        "
      ],
      "text/plain": [
       "<IPython.lib.display.IFrame at 0x7f3a844da3a0>"
      ]
     },
     "execution_count": 11,
     "metadata": {},
     "output_type": "execute_result"
    }
   ],
   "source": [
    "graph, s, t, E = create_graph(\"data/simple\")\n",
    "\n",
    "currents = get_currents(graph, s, t, E)\n",
    "check_solution(currents, s, t)\n",
    "\n",
    "nt = Network('400px', '400px', notebook=True, directed= True)\n",
    "nt.from_nx(currents)\n",
    "nt.show('nx.html')"
   ]
  },
  {
   "cell_type": "markdown",
   "id": "e551c3e6",
   "metadata": {},
   "source": [
    "#### Grid graph"
   ]
  },
  {
   "cell_type": "code",
   "execution_count": 14,
   "id": "c136b2b2",
   "metadata": {},
   "outputs": [
    {
     "name": "stdout",
     "output_type": "stream",
     "text": [
      "Correct solution! Current sum: 44.22839071622382\n"
     ]
    },
    {
     "data": {
      "text/html": [
       "\n",
       "        <iframe\n",
       "            width=\"400px\"\n",
       "            height=\"400px\"\n",
       "            src=\"nx.html\"\n",
       "            frameborder=\"0\"\n",
       "            allowfullscreen\n",
       "            \n",
       "        ></iframe>\n",
       "        "
      ],
      "text/plain": [
       "<IPython.lib.display.IFrame at 0x7f3a84503370>"
      ]
     },
     "execution_count": 14,
     "metadata": {},
     "output_type": "execute_result"
    }
   ],
   "source": [
    "n = 25\n",
    "graph = nx.grid_graph([int(math.sqrt(n)), int(math.sqrt(n))])\n",
    "graph = nx.convert_node_labels_to_integers(graph)\n",
    "for i in range(n):\n",
    "    for j in range(n):\n",
    "        if j in graph[i]:\n",
    "            w = random.uniform(2, 8)\n",
    "            graph[i][j]['weight'] = w\n",
    "            graph[i][j]['value'] = np.sqrt(w)\n",
    "s = 0\n",
    "t = n - 1\n",
    "E = 20\n",
    "\n",
    "currents = get_currents(graph, s, t, E)\n",
    "check_solution(currents, s, t)\n",
    "\n",
    "\n",
    "nt = Network('400px', '400px', notebook=True)\n",
    "nt.from_nx(graph)\n",
    "nt.show('nx.html')"
   ]
  },
  {
   "cell_type": "code",
   "execution_count": 15,
   "id": "2427145b",
   "metadata": {},
   "outputs": [
    {
     "data": {
      "text/html": [
       "\n",
       "        <iframe\n",
       "            width=\"400px\"\n",
       "            height=\"400px\"\n",
       "            src=\"nx.html\"\n",
       "            frameborder=\"0\"\n",
       "            allowfullscreen\n",
       "            \n",
       "        ></iframe>\n",
       "        "
      ],
      "text/plain": [
       "<IPython.lib.display.IFrame at 0x7f3a847f50d0>"
      ]
     },
     "execution_count": 15,
     "metadata": {},
     "output_type": "execute_result"
    }
   ],
   "source": [
    "nt = Network('400px', '400px', notebook=True, directed= True)\n",
    "nt.from_nx(currents)\n",
    "nt.show('nx.html')"
   ]
  },
  {
   "cell_type": "markdown",
   "id": "0cb13b6e",
   "metadata": {},
   "source": [
    "### Disclaimer\n",
    "Niestety nie udało mi się wykonać testów związanych z pozostałymi grafami.\n",
    "Wkradł się drobny błąd w proces tworzenia grafu związany najprawdopodobniej z prądami płynącymi w kierunku przeciwnym. Algorytm nie pokrywa takich przypadków poprawnie"
   ]
  },
  {
   "cell_type": "markdown",
   "id": "93b11aa3",
   "metadata": {},
   "source": [
    "### Wnioski\n",
    "Użyto metody potencjałów węzłowych. Metoda okazała się prostsza niż wcześniej zakładałem. Całość zawiera się w funkcji fill_G_matrix() przy pomocy której wypełniamy macierz, aby potem rozwiązać układ równań. W pierwszym i ostatnim wierszu macierzy mamy tylko jedną niezerową wartość (konkretnie 1) odpowiadającą równaniom dla węzła wejściowego i wyjściowego. Mamy dla nich informacje o napięciu, a zatem równanie upraszcza sie do prostego $V_0 = E$ i $V_n-1 = 0$. W rozwiązaniu zakładamy, że kierunek przepływu prądu jest dodatni, jeśli prad płynie od i-tego do j-tego węzła, przy czym i < j. Rozwiązanie zweryfikowane w prosty sposób: sumując prąd wychodzący ze źródła i wchodzący do ujścia grafu."
   ]
  }
 ],
 "metadata": {
  "kernelspec": {
   "display_name": "Python 3.8.10 64-bit",
   "language": "python",
   "name": "python3810jvsc74a57bd0916dbcbb3f70747c44a77c7bcd40155683ae19c65e1c03b4aa3499c5328201f1"
  },
  "language_info": {
   "codemirror_mode": {
    "name": "ipython",
    "version": 3
   },
   "file_extension": ".py",
   "mimetype": "text/x-python",
   "name": "python",
   "nbconvert_exporter": "python",
   "pygments_lexer": "ipython3",
   "version": "3.8.10"
  }
 },
 "nbformat": 4,
 "nbformat_minor": 5
}
