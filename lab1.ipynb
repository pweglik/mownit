{
 "cells": [
  {
   "cell_type": "markdown",
   "id": "0811f9d0",
   "metadata": {},
   "source": [
    "# Metody Obliczeniowe w Nauce i Technice\n",
    "## Laboratorium 1: Arytmetyka komputerowa\n",
    "## Przemysław Węglik"
   ]
  },
  {
   "cell_type": "markdown",
   "id": "43926857",
   "metadata": {},
   "source": [
    "### Zadanie 1 Sumowanie liczb pojedynczej precyzji"
   ]
  },
  {
   "cell_type": "markdown",
   "id": "9ba8b13b",
   "metadata": {},
   "source": [
    "**1. Napisz program, który oblicza sumę N liczb pojedynczej precyzji przechowywanych\n",
    "w tablicy o N = $10^7$\n",
    "elementach. Tablica wypełniona jest tą samą wartością v z\n",
    "przedziału [0.1, 0.9] np. v = 0.53125.**"
   ]
  },
  {
   "cell_type": "code",
   "execution_count": 5,
   "id": "dea65541",
   "metadata": {},
   "outputs": [
    {
     "name": "stdout",
     "output_type": "stream",
     "text": [
      "Calculated result: 5030840.5\n",
      "Expected result: 5312500.0\n"
     ]
    }
   ],
   "source": [
    "import numpy as np\n",
    "\n",
    "N = 10 ** 7\n",
    "VALUE = 0.53125\n",
    "\n",
    "array = np.full(N, VALUE, dtype=np.float32)\n",
    "\n",
    "array_sum = np.float32(0)\n",
    "\n",
    "for i in range(len(array)):\n",
    "    array_sum += array[i]\n",
    "    \n",
    "print(f'Calculated result: {array_sum}')\n",
    "print(f'Expected result: {N * VALUE}')\n"
   ]
  },
  {
   "cell_type": "markdown",
   "id": "a0587329",
   "metadata": {},
   "source": [
    "**2. Wyznacz bezwzględny i względny błąd obliczeń. Dlaczego błąd względny jest tak\n",
    "duży?**"
   ]
  },
  {
   "cell_type": "code",
   "execution_count": 22,
   "id": "de90b546",
   "metadata": {},
   "outputs": [
    {
     "name": "stdout",
     "output_type": "stream",
     "text": [
      "Absolute error: 281659.5\n",
      "Relative error: 0.05301825882352941\n"
     ]
    }
   ],
   "source": [
    "absolute_error: float = abs(N * VALUE - array_sum)\n",
    "relative_error: float = absolute_error/(N * VALUE)\n",
    "    \n",
    "print(f'Absolute error: {absolute_error}')\n",
    "print(f'Relative error: {relative_error}')"
   ]
  },
  {
   "cell_type": "markdown",
   "id": "9c68bb27",
   "metadata": {},
   "source": [
    "Podczas dodawania dużej i małej liczby mantysa jest dostosowywana do tej dużej co powoduje utratę znaczących bitów, a w ekstramalnym przypadku zniknięcie liczby."
   ]
  },
  {
   "cell_type": "markdown",
   "id": "9621d4d7",
   "metadata": {},
   "source": [
    "**3. W jaki sposób rośnie błąd względny w trakcie sumowania? Przedstaw wykres (raportuj wartość błędu co 25000 kroków) i dokonaj jego interpretacji.**"
   ]
  },
  {
   "cell_type": "code",
   "execution_count": 14,
   "id": "b8f6cb0e",
   "metadata": {},
   "outputs": [
    {
     "data": {
      "text/plain": [
       "[<matplotlib.lines.Line2D at 0x7f37d6dc05b0>]"
      ]
     },
     "execution_count": 14,
     "metadata": {},
     "output_type": "execute_result"
    },
    {
     "data": {
      "image/png": "[encoded data removed]",
      "text/plain": [
       "<Figure size 432x288 with 1 Axes>"
      ]
     },
     "metadata": {
      "needs_background": "light"
     },
     "output_type": "display_data"
    }
   ],
   "source": [
    "import matplotlib.pyplot as plt\n",
    "from typing import List\n",
    "\n",
    "array_sum = np.float32(0)\n",
    "\n",
    "errors: List[float] = []\n",
    "steps: List[int] = []\n",
    "\n",
    "for i in range(len(array)):\n",
    "    array_sum += array[i]\n",
    "    \n",
    "    if i % 25000 == 0 and i != 0:\n",
    "        partial_relative_error: float = abs(\n",
    "            i * VALUE - array_sum)/(i * VALUE\n",
    "        )\n",
    "\n",
    "        errors.append(partial_relative_error)\n",
    "        steps.append(i)\n",
    "\n",
    "plt.plot(steps, errors)"
   ]
  },
  {
   "cell_type": "markdown",
   "id": "e23b3e00",
   "metadata": {},
   "source": [
    "**4.  Zaimplementuj rekurencyjny algorytm sumowania.**"
   ]
  },
  {
   "cell_type": "code",
   "execution_count": 19,
   "id": "f5fe2f13",
   "metadata": {},
   "outputs": [
    {
     "name": "stdout",
     "output_type": "stream",
     "text": [
      "Calculated result: 5312500.0\n",
      "Expected result: 5312500.0\n"
     ]
    }
   ],
   "source": [
    "def recursive_sum(array) -> np.float32:\n",
    "    if len(array) <= 2:\n",
    "        return np.sum(array)\n",
    "    \n",
    "    return recursive_sum(array[0:len(array)//2]) + \\\n",
    "        recursive_sum(array[len(array)//2:])\n",
    "    \n",
    "\n",
    "N = 10 ** 7\n",
    "VALUE = 0.53125\n",
    "\n",
    "array = np.full(N, VALUE, dtype=np.float32)\n",
    "\n",
    "array_recursive_sum = np.float32(0)\n",
    "\n",
    "array_recursive_sum = recursive_sum(array)\n",
    "    \n",
    "print(f'Calculated result: {array_recursive_sum}')\n",
    "print(f'Expected result: {N * VALUE}')"
   ]
  },
  {
   "cell_type": "markdown",
   "id": "c88c73b5",
   "metadata": {},
   "source": [
    "**5. Wyznacz bezwzględny i względny błąd obliczeń. Dlaczego błąd względny znacznie\n",
    "zmalał?**"
   ]
  },
  {
   "cell_type": "code",
   "execution_count": 21,
   "id": "eb6cff39",
   "metadata": {},
   "outputs": [
    {
     "name": "stdout",
     "output_type": "stream",
     "text": [
      "Absolute error: 0.0\n",
      "Relative error: 0.0\n"
     ]
    }
   ],
   "source": [
    "absolute_error_recursive: float = abs(N * VALUE - array_recursive_sum)\n",
    "relative_error_recursive: float = absolute_error/(N * VALUE)\n",
    "    \n",
    "print(f'Absolute error: {absolute_error_recursive}')\n",
    "print(f'Relative error: {relative_error_recursive}')"
   ]
  },
  {
   "cell_type": "markdown",
   "id": "bb8305bc",
   "metadata": {},
   "source": [
    "**6. Porównaj czas działania obu algorytmów dla tych samych danych wejściowych.** "
   ]
  },
  {
   "cell_type": "code",
   "execution_count": 23,
   "id": "e42bb52f",
   "metadata": {},
   "outputs": [
    {
     "name": "stdout",
     "output_type": "stream",
     "text": [
      " Naive sum:\n",
      "Absolute error: 281659.5\n",
      "Relative error: 0.05301825882352941\n",
      "\n",
      "Recursive sum:\n",
      "Absolute error: 0.0\n",
      "Relative error: 0.0\n"
     ]
    }
   ],
   "source": [
    "absolute_error: float = abs(N * VALUE - array_sum)\n",
    "relative_error: float = absolute_error/(N * VALUE)\n",
    "\n",
    "print(f' Naive sum:')\n",
    "print(f'Absolute error: {absolute_error}')\n",
    "print(f'Relative error: {relative_error}')\n",
    "print()\n",
    "print(f'Recursive sum:')\n",
    "print(f'Absolute error: {absolute_error_recursive}')\n",
    "print(f'Relative error: {relative_error_recursive}')"
   ]
  },
  {
   "cell_type": "markdown",
   "id": "2e656954",
   "metadata": {},
   "source": [
    "**7.  Przedstaw przykładowe dane wejściowe, dla których algorytm sumowania rekurencyjnego zwraca niezerowy błąd.**"
   ]
  },
  {
   "cell_type": "code",
   "execution_count": 30,
   "id": "03b507f3",
   "metadata": {},
   "outputs": [
    {
     "name": "stdout",
     "output_type": "stream",
     "text": [
      "Calculated result: 5000266.0\n",
      "Expected result: 5000265.625\n",
      "Recursive sum:\n",
      "Absolute error: 0.375\n",
      "Relative error: 0.05632890752678764\n"
     ]
    }
   ],
   "source": [
    "N = 10 ** 3\n",
    "VALUE = 0.53125\n",
    "NEW_VALUE = 10 ** 4\n",
    "\n",
    "array = np.full(N, VALUE, dtype=np.float32)\n",
    "\n",
    "for i in range(len(array)):\n",
    "    if i % 2 == 0:\n",
    "        array[i] = NEW_VALUE\n",
    "\n",
    "array_recursive_sum = np.float32(0)\n",
    "\n",
    "array_recursive_sum = recursive_sum(array)\n",
    "    \n",
    "print(f'Calculated result: {array_recursive_sum}')\n",
    "print(f'Expected result: {N/2 * VALUE + N/2 * NEW_VALUE}')\n",
    "\n",
    "absolute_error_recursive: float = abs(N/2 * VALUE + N/2 * NEW_VALUE - array_recursive_sum)\n",
    "relative_error_recursive: float = absolute_error/(N/2 * VALUE + N/2 * NEW_VALUE)\n",
    "\n",
    "\n",
    "print(f'Recursive sum:')\n",
    "print(f'Absolute error: {absolute_error_recursive}')\n",
    "print(f'Relative error: {relative_error_recursive}')"
   ]
  }
 ],
 "metadata": {
  "kernelspec": {
   "display_name": "Python 3.8.10 64-bit",
   "language": "python",
   "name": "python3810jvsc74a57bd0916dbcbb3f70747c44a77c7bcd40155683ae19c65e1c03b4aa3499c5328201f1"
  },
  "language_info": {
   "codemirror_mode": {
    "name": "ipython",
    "version": 3
   },
   "file_extension": ".py",
   "mimetype": "text/x-python",
   "name": "python",
   "nbconvert_exporter": "python",
   "pygments_lexer": "ipython3",
   "version": "3.8.10"
  }
 },
 "nbformat": 4,
 "nbformat_minor": 5
}
