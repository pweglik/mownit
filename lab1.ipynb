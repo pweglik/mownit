{
 "cells": [
  {
   "cell_type": "markdown",
   "id": "0811f9d0",
   "metadata": {},
   "source": [
    "# Metody Obliczeniowe w Nauce i Technice\n",
    "## Laboratorium 1: Arytmetyka komputerowa\n",
    "## Przemysław Węglik"
   ]
  },
  {
   "cell_type": "markdown",
   "id": "43926857",
   "metadata": {},
   "source": [
    "### Zadanie 1 - Sumowanie liczb pojedynczej precyzji"
   ]
  },
  {
   "cell_type": "markdown",
   "id": "9ba8b13b",
   "metadata": {},
   "source": [
    "**1. Napisz program, który oblicza sumę N liczb pojedynczej precyzji przechowywanych\n",
    "w tablicy o N = $10^7$\n",
    "elementach. Tablica wypełniona jest tą samą wartością v z\n",
    "przedziału [0.1, 0.9] np. v = 0.53125.**"
   ]
  },
  {
   "cell_type": "code",
   "execution_count": 6,
   "id": "dea65541",
   "metadata": {},
   "outputs": [
    {
     "name": "stdout",
     "output_type": "stream",
     "text": [
      "Calculated result: 5030840.5\n",
      "Expected result: 5312500.0\n"
     ]
    }
   ],
   "source": [
    "import numpy as np\n",
    "\n",
    "N = 10 ** 7\n",
    "VALUE = 0.53125\n",
    "EXPECTED_VALUE = N * VALUE\n",
    "\n",
    "array = np.full(N, VALUE, dtype=np.float32)\n",
    "\n",
    "array_sum = np.float32(0)\n",
    "\n",
    "for i in range(len(array)):\n",
    "    array_sum += array[i]\n",
    "    \n",
    "print(f'Calculated result: {array_sum}')\n",
    "print(f'Expected result: {EXPECTED_VALUE}')\n"
   ]
  },
  {
   "cell_type": "markdown",
   "id": "a0587329",
   "metadata": {},
   "source": [
    "**2. Wyznacz bezwzględny i względny błąd obliczeń. Dlaczego błąd względny jest tak\n",
    "duży?**"
   ]
  },
  {
   "cell_type": "code",
   "execution_count": 7,
   "id": "de90b546",
   "metadata": {},
   "outputs": [
    {
     "name": "stdout",
     "output_type": "stream",
     "text": [
      "Absolute error: 281659.5\n",
      "Relative error: 0.05301825882352941\n"
     ]
    }
   ],
   "source": [
    "absolute_error: float = abs(EXPECTED_VALUE - array_sum)\n",
    "relative_error: float = absolute_error/EXPECTED_VALUE\n",
    "    \n",
    "print(f'Absolute error: {absolute_error}')\n",
    "print(f'Relative error: {relative_error}')"
   ]
  },
  {
   "cell_type": "markdown",
   "id": "9c68bb27",
   "metadata": {},
   "source": [
    "Podczas dodawania dużej i małej liczby mantysa jest dostosowywana do tej dużej co powoduje utratę znaczących bitów, a w ekstramalnym przypadku zniknięcie liczby."
   ]
  },
  {
   "cell_type": "markdown",
   "id": "9621d4d7",
   "metadata": {},
   "source": [
    "**3. W jaki sposób rośnie błąd względny w trakcie sumowania? Przedstaw wykres (raportuj wartość błędu co 25000 kroków) i dokonaj jego interpretacji.**"
   ]
  },
  {
   "cell_type": "code",
   "execution_count": 8,
   "id": "b8f6cb0e",
   "metadata": {},
   "outputs": [
    {
     "data": {
      "text/plain": [
       "Text(0, 0.5, 'relative_error')"
      ]
     },
     "execution_count": 8,
     "metadata": {},
     "output_type": "execute_result"
    },
    {
     "data": {
      "image/png": "[encoded data removed]",
      "text/plain": [
       "<Figure size 432x288 with 1 Axes>"
      ]
     },
     "metadata": {
      "needs_background": "light"
     },
     "output_type": "display_data"
    }
   ],
   "source": [
    "import matplotlib.pyplot as plt\n",
    "from typing import List\n",
    "\n",
    "array_sum = np.float32(0)\n",
    "\n",
    "errors: List[float] = []\n",
    "steps: List[int] = []\n",
    "\n",
    "for i in range(len(array)):\n",
    "    array_sum += array[i]\n",
    "    \n",
    "    if i % 25000 == 0 and i != 0:\n",
    "        partial_expected_value: float = i * VALUE\n",
    "        partial_relative_error: float = abs(partial_expected_value - array_sum)/partial_expected_value\n",
    "\n",
    "        errors.append(partial_relative_error)\n",
    "        steps.append(i)\n",
    "\n",
    "plt.plot(steps, errors)\n",
    "plt.xlabel(\"steps\")\n",
    "plt.ylabel(\"relative_error\")"
   ]
  },
  {
   "cell_type": "markdown",
   "id": "e23b3e00",
   "metadata": {},
   "source": [
    "**4.  Zaimplementuj rekurencyjny algorytm sumowania.**"
   ]
  },
  {
   "cell_type": "code",
   "execution_count": 9,
   "id": "f5fe2f13",
   "metadata": {},
   "outputs": [
    {
     "name": "stdout",
     "output_type": "stream",
     "text": [
      "Calculated result: 5312500.0\n",
      "Expected result: 5312500.0\n"
     ]
    }
   ],
   "source": [
    "def recursive_sum(array) -> np.float32:\n",
    "    if len(array) <= 2:\n",
    "        return np.sum(array)\n",
    "    \n",
    "    return recursive_sum(array[0:len(array)//2]) + \\\n",
    "        recursive_sum(array[len(array)//2:])\n",
    "\n",
    "array = np.full(N, VALUE, dtype=np.float32)\n",
    "\n",
    "array_recursive_sum = np.float32(0)\n",
    "\n",
    "array_recursive_sum = recursive_sum(array)\n",
    "    \n",
    "print(f'Calculated result: {array_recursive_sum}')\n",
    "print(f'Expected result: {EXPECTED_VALUE}')"
   ]
  },
  {
   "cell_type": "markdown",
   "id": "c88c73b5",
   "metadata": {},
   "source": [
    "**5. Wyznacz bezwzględny i względny błąd obliczeń. Dlaczego błąd względny znacznie\n",
    "zmalał?**"
   ]
  },
  {
   "cell_type": "code",
   "execution_count": 10,
   "id": "eb6cff39",
   "metadata": {},
   "outputs": [
    {
     "name": "stdout",
     "output_type": "stream",
     "text": [
      "Absolute error: 0.0\n",
      "Relative error: 0.05301825882352941\n"
     ]
    }
   ],
   "source": [
    "absolute_error_recursive: float = abs(EXPECTED_VALUE - array_recursive_sum)\n",
    "relative_error_recursive: float = absolute_error/EXPECTED_VALUE\n",
    "    \n",
    "print(f'Absolute error: {absolute_error_recursive}')\n",
    "print(f'Relative error: {relative_error_recursive}')"
   ]
  },
  {
   "cell_type": "markdown",
   "id": "bb8305bc",
   "metadata": {},
   "source": [
    "**6. Porównaj czas działania obu algorytmów dla tych samych danych wejściowych.** "
   ]
  },
  {
   "cell_type": "code",
   "execution_count": 11,
   "id": "e42bb52f",
   "metadata": {},
   "outputs": [
    {
     "name": "stdout",
     "output_type": "stream",
     "text": [
      " Naive sum:\n",
      "Absolute error: 281659.5\n",
      "Relative error: 0.05301825882352941\n",
      "\n",
      "Recursive sum:\n",
      "Absolute error: 0.0\n",
      "Relative error: 0.05301825882352941\n"
     ]
    }
   ],
   "source": [
    "print(f' Naive sum:')\n",
    "print(f'Absolute error: {absolute_error}')\n",
    "print(f'Relative error: {relative_error}')\n",
    "print()\n",
    "print(f'Recursive sum:')\n",
    "print(f'Absolute error: {absolute_error_recursive}')\n",
    "print(f'Relative error: {relative_error_recursive}')"
   ]
  },
  {
   "cell_type": "markdown",
   "id": "2e656954",
   "metadata": {},
   "source": [
    "**7.  Przedstaw przykładowe dane wejściowe, dla których algorytm sumowania rekurencyjnego zwraca niezerowy błąd.**"
   ]
  },
  {
   "cell_type": "code",
   "execution_count": 12,
   "id": "03b507f3",
   "metadata": {},
   "outputs": [
    {
     "name": "stdout",
     "output_type": "stream",
     "text": [
      "Calculated result: 5000266.0\n",
      "Expected result: 5000265.625\n",
      "Absolute error: 0.375\n",
      "Relative error: 7.499601583665868e-08\n"
     ]
    }
   ],
   "source": [
    "N = 10 ** 3\n",
    "VALUE = 0.53125\n",
    "BIG_VALUE = 10 ** 4\n",
    "EXPECTED_VALUE = N/2 * VALUE + N/2 * BIG_VALUE\n",
    "\n",
    "\n",
    "array = np.full(N, VALUE, dtype=np.float32)\n",
    "\n",
    "for i in range(len(array)):\n",
    "    if i % 2 == 0:\n",
    "        array[i] = BIG_VALUE\n",
    "\n",
    "array_recursive_sum = np.float32(0)\n",
    "\n",
    "array_recursive_sum = recursive_sum(array)\n",
    "    \n",
    "print(f'Calculated result: {array_recursive_sum}')\n",
    "print(f'Expected result: {EXPECTED_VALUE}')\n",
    "\n",
    "absolute_error_recursive: float = abs(EXPECTED_VALUE - array_recursive_sum)\n",
    "relative_error_recursive: float = absolute_error_recursive/EXPECTED_VALUE\n",
    "\n",
    "print(f'Absolute error: {absolute_error_recursive}')\n",
    "print(f'Relative error: {relative_error_recursive}')"
   ]
  },
  {
   "cell_type": "markdown",
   "id": "3f946bf1",
   "metadata": {},
   "source": [
    "### Zadanie 2 - Algorytm Kahana"
   ]
  },
  {
   "cell_type": "markdown",
   "id": "22b53e2d",
   "metadata": {},
   "source": [
    "Zaimplementuj algorytm sumowania Kahana."
   ]
  },
  {
   "cell_type": "code",
   "execution_count": 13,
   "id": "d0436220",
   "metadata": {},
   "outputs": [
    {
     "name": "stdout",
     "output_type": "stream",
     "text": [
      "Calculated result: 1000000.0\n",
      "Expected result: 1000000.0\n"
     ]
    }
   ],
   "source": [
    "def kahan_sum(array):\n",
    "    array_sum = np.float32(0)\n",
    "    err = np.float32(0)\n",
    "\n",
    "    for i in range(len(array)):\n",
    "        y = np.float32(array[i] - err)\n",
    "        temp = np.float32(array_sum + y)\n",
    "        err = (temp - array_sum) - y\n",
    "        array_sum = temp\n",
    "        \n",
    "    return array_sum\n",
    "\n",
    "N = 10 ** 7\n",
    "VALUE = 0.1\n",
    "EXPECTED_VALUE = N * VALUE\n",
    "\n",
    "array = np.full(N, VALUE, dtype=np.float32)\n",
    "array_sum = kahan_sum(array)\n",
    "\n",
    "print(f'Calculated result: {array_sum}')\n",
    "print(f'Expected result: {EXPECTED_VALUE}')"
   ]
  },
  {
   "cell_type": "markdown",
   "id": "cae5d34a",
   "metadata": {},
   "source": [
    "1. Wyznacz bezwzględny i względny błąd obliczeń dla tych samych danych wejściowych jak w przypadku testów z Zadania 1."
   ]
  },
  {
   "cell_type": "code",
   "execution_count": 14,
   "id": "d39b1eba",
   "metadata": {},
   "outputs": [
    {
     "name": "stdout",
     "output_type": "stream",
     "text": [
      "Absolute error: 0.0\n",
      "Relative error: 0.0\n"
     ]
    }
   ],
   "source": [
    "absolute_error: float = abs(EXPECTED_VALUE - array_sum)\n",
    "relative_error: float = absolute_error/EXPECTED_VALUE\n",
    "    \n",
    "print(f'Absolute error: {absolute_error}')\n",
    "print(f'Relative error: {relative_error}')"
   ]
  },
  {
   "cell_type": "markdown",
   "id": "b30dba26",
   "metadata": {},
   "source": [
    "2.  Wyjaśnij dlaczego w algorytm Kahana ma znacznie lepsze własności numeryczne?\n",
    "Do czego służy zmienna err?"
   ]
  },
  {
   "cell_type": "markdown",
   "id": "63407abe",
   "metadata": {},
   "source": [
    "W zmiennej $err$ przechowywane są bity utracone z $y$ podczas obliczania $temp$. Algorytm ma dużo lepszą dokładność, bo nie odrzucamy niskich bitów mantysy tylko wykorzystujemy je do korekcji w następnym kroku"
   ]
  },
  {
   "cell_type": "markdown",
   "id": "00c02ef2",
   "metadata": {},
   "source": [
    "3. Porównaj czasy działania algorytmu Kahana oraz algorytmu sumowania rekurencyjnego dla tych samych danych wejściowych."
   ]
  },
  {
   "cell_type": "code",
   "execution_count": 15,
   "id": "4aadbdb0",
   "metadata": {},
   "outputs": [
    {
     "name": "stdout",
     "output_type": "stream",
     "text": [
      "Running time of recursive algorithm: 16.631422145999977\n",
      "Running time of Kahan algorithm: 6.193081035000091\n"
     ]
    }
   ],
   "source": [
    "import timeit\n",
    "recursive_time = timeit.timeit(\n",
    "    lambda: recursive_sum(array),\n",
    "    number=1\n",
    ")\n",
    "\n",
    "kahan_time = timeit.timeit(\n",
    "    lambda: kahan_sum(array),\n",
    "    number=1\n",
    ")\n",
    "\n",
    "print(f'Running time of recursive algorithm: {recursive_time}')\n",
    "print(f'Running time of Kahan algorithm: {kahan_time}')"
   ]
  },
  {
   "cell_type": "markdown",
   "id": "a44c71bf",
   "metadata": {},
   "source": [
    "### Zadanie 3 - Sumy częściowe"
   ]
  },
  {
   "cell_type": "code",
   "execution_count": 16,
   "id": "cdbdb194",
   "metadata": {},
   "outputs": [],
   "source": [
    "def riemann_zeta_function_sum(s: float, n: int, to_bottom: bool = False, sum_type = np.float32):\n",
    "    series_sum = sum_type(0)\n",
    "    if to_bottom:\n",
    "        for i in range(n, 0, -1): # [n, 1]\n",
    "            series_sum += sum_type(1/(i**s))\n",
    "    else:\n",
    "        for i in range(1, n+1):\n",
    "            series_sum += sum_type(1/(i**s))\n",
    "        \n",
    "    return series_sum\n",
    "        \n",
    "def dirichlet_eta_function_sum(s: float, n: int, to_bottom: bool = False, sum_type = np.float32):\n",
    "    series_sum = sum_type(0)\n",
    "    \n",
    "    if to_bottom:\n",
    "        for i in range(n, 0, -1): # [n, 1]\n",
    "            series_sum += (-1)**(i-1) * 1/(i**s)\n",
    "    else:\n",
    "        for i in range(1, n+1):\n",
    "            series_sum += (-1)**(i-1) * 1/(i**s)\n",
    " \n",
    "    return series_sum"
   ]
  },
  {
   "cell_type": "code",
   "execution_count": 86,
   "id": "2562f0e9",
   "metadata": {},
   "outputs": [
    {
     "name": "stdout",
     "output_type": "stream",
     "text": [
      "float32\n",
      "n: 50, s: 2\n",
      "  Riemann:\n",
      "   Bottom to up: 1.62513291835784912109\n",
      "   Up to bottom: 1.62513267993927001953\n",
      "  Dirichlet:\n",
      "   Bottom to up: 0.82227103182602945264\n",
      "   Up to bottom: 0.82227103182602889753\n",
      "n: 50, s: 3.6667\n",
      "  Riemann:\n",
      "   Bottom to up: 1.10939943790435791016\n",
      "   Up to bottom: 1.10939979553222656250\n",
      "  Dirichlet:\n",
      "   Bottom to up: 0.93469306003071062072\n",
      "   Up to bottom: 0.93469306003071095379\n",
      "n: 50, s: 5\n",
      "  Riemann:\n",
      "   Bottom to up: 1.03692746162414550781\n",
      "   Up to bottom: 1.03692770004272460938\n",
      "  Dirichlet:\n",
      "   Bottom to up: 0.97211976892679785589\n",
      "   Up to bottom: 0.97211976892679763385\n",
      "n: 50, s: 7.2\n",
      "  Riemann:\n",
      "   Bottom to up: 1.00722765922546386719\n",
      "   Up to bottom: 1.00722765922546386719\n",
      "  Dirichlet:\n",
      "   Bottom to up: 0.99352700066134858048\n",
      "   Up to bottom: 0.99352700066134813639\n",
      "n: 50, s: 10\n",
      "  Riemann:\n",
      "   Bottom to up: 1.00099456310272216797\n",
      "   Up to bottom: 1.00099456310272216797\n",
      "  Dirichlet:\n",
      "   Bottom to up: 0.99903950759827175876\n",
      "   Up to bottom: 0.99903950759827153671\n",
      "n: 100, s: 2\n",
      "  Riemann:\n",
      "   Bottom to up: 1.63498401641845703125\n",
      "   Up to bottom: 1.63498389720916748047\n",
      "  Dirichlet:\n",
      "   Bottom to up: 0.82241753337412859537\n",
      "   Up to bottom: 0.82241753337412815128\n",
      "n: 100, s: 3.6667\n",
      "  Riemann:\n",
      "   Bottom to up: 1.10940861701965332031\n",
      "   Up to bottom: 1.10940885543823242188\n",
      "  Dirichlet:\n",
      "   Bottom to up: 0.93469332114006620227\n",
      "   Up to bottom: 0.93469332114006697942\n",
      "n: 100, s: 5\n",
      "  Riemann:\n",
      "   Bottom to up: 1.03692746162414550781\n",
      "   Up to bottom: 1.03692770004272460938\n",
      "  Dirichlet:\n",
      "   Bottom to up: 0.97211977039815922197\n",
      "   Up to bottom: 0.97211977039815888890\n",
      "n: 100, s: 7.2\n",
      "  Riemann:\n",
      "   Bottom to up: 1.00722765922546386719\n",
      "   Up to bottom: 1.00722765922546386719\n",
      "  Dirichlet:\n",
      "   Bottom to up: 0.99352700066161847570\n",
      "   Up to bottom: 0.99352700066161792058\n",
      "n: 100, s: 10\n",
      "  Riemann:\n",
      "   Bottom to up: 1.00099456310272216797\n",
      "   Up to bottom: 1.00099456310272216797\n",
      "  Dirichlet:\n",
      "   Bottom to up: 0.99903950759827175876\n",
      "   Up to bottom: 0.99903950759827153671\n",
      "n: 200, s: 2\n",
      "  Riemann:\n",
      "   Bottom to up: 1.63994669914245605469\n",
      "   Up to bottom: 1.63994646072387695312\n",
      "  Dirichlet:\n",
      "   Bottom to up: 0.82245459592255099057\n",
      "   Up to bottom: 0.82245459592255087955\n",
      "n: 200, s: 3.6667\n",
      "  Riemann:\n",
      "   Bottom to up: 1.10940861701965332031\n",
      "   Up to bottom: 1.10941028594970703125\n",
      "  Dirichlet:\n",
      "   Bottom to up: 0.93469334210868448842\n",
      "   Up to bottom: 0.93469334210868515456\n",
      "n: 200, s: 5\n",
      "  Riemann:\n",
      "   Bottom to up: 1.03692746162414550781\n",
      "   Up to bottom: 1.03692770004272460938\n",
      "  Dirichlet:\n",
      "   Bottom to up: 0.97211977044536701520\n",
      "   Up to bottom: 0.97211977044536634907\n",
      "n: 200, s: 7.2\n",
      "  Riemann:\n",
      "   Bottom to up: 1.00722765922546386719\n",
      "   Up to bottom: 1.00722765922546386719\n",
      "  Dirichlet:\n",
      "   Bottom to up: 0.99352700066162014103\n",
      "   Up to bottom: 0.99352700066161980796\n",
      "n: 200, s: 10\n",
      "  Riemann:\n",
      "   Bottom to up: 1.00099456310272216797\n",
      "   Up to bottom: 1.00099456310272216797\n",
      "  Dirichlet:\n",
      "   Bottom to up: 0.99903950759827175876\n",
      "   Up to bottom: 0.99903950759827153671\n",
      "n: 500, s: 2\n",
      "  Riemann:\n",
      "   Bottom to up: 1.64293599128723144531\n",
      "   Up to bottom: 1.64293599128723144531\n",
      "  Dirichlet:\n",
      "   Bottom to up: 0.82246503742409626803\n",
      "   Up to bottom: 0.82246503742409715620\n",
      "n: 500, s: 3.6667\n",
      "  Riemann:\n",
      "   Bottom to up: 1.10940861701965332031\n",
      "   Up to bottom: 1.10941052436828613281\n",
      "  Dirichlet:\n",
      "   Bottom to up: 0.93469334385587454772\n",
      "   Up to bottom: 0.93469334385587499181\n",
      "n: 500, s: 5\n",
      "  Riemann:\n",
      "   Bottom to up: 1.03692746162414550781\n",
      "   Up to bottom: 1.03692770004272460938\n",
      "  Dirichlet:\n",
      "   Bottom to up: 0.97211977044689468208\n",
      "   Up to bottom: 0.97211977044689334981\n",
      "n: 500, s: 7.2\n",
      "  Riemann:\n",
      "   Bottom to up: 1.00722765922546386719\n",
      "   Up to bottom: 1.00722765922546386719\n",
      "  Dirichlet:\n",
      "   Bottom to up: 0.99352700066162014103\n",
      "   Up to bottom: 0.99352700066161980796\n",
      "n: 500, s: 10\n",
      "  Riemann:\n",
      "   Bottom to up: 1.00099456310272216797\n",
      "   Up to bottom: 1.00099456310272216797\n",
      "  Dirichlet:\n",
      "   Bottom to up: 0.99903950759827175876\n",
      "   Up to bottom: 0.99903950759827153671\n",
      "n: 1000, s: 2\n",
      "  Riemann:\n",
      "   Bottom to up: 1.64393484592437744141\n",
      "   Up to bottom: 1.64393448829650878906\n",
      "  Dirichlet:\n",
      "   Bottom to up: 0.82246653392411139816\n",
      "   Up to bottom: 0.82246653392411273042\n",
      "n: 1000, s: 3.6667\n",
      "  Riemann:\n",
      "   Bottom to up: 1.10940861701965332031\n",
      "   Up to bottom: 1.10941052436828613281\n",
      "  Dirichlet:\n",
      "   Bottom to up: 0.93469334391413527729\n",
      "   Up to bottom: 0.93469334391413538832\n",
      "n: 1000, s: 5\n",
      "  Riemann:\n",
      "   Bottom to up: 1.03692746162414550781\n",
      "   Up to bottom: 1.03692770004272460938\n",
      "  Dirichlet:\n",
      "   Bottom to up: 0.97211977044690911498\n",
      "   Up to bottom: 0.97211977044690878191\n",
      "n: 1000, s: 7.2\n",
      "  Riemann:\n",
      "   Bottom to up: 1.00722765922546386719\n",
      "   Up to bottom: 1.00722765922546386719\n",
      "  Dirichlet:\n",
      "   Bottom to up: 0.99352700066162014103\n",
      "   Up to bottom: 0.99352700066161980796\n",
      "n: 1000, s: 10\n",
      "  Riemann:\n",
      "   Bottom to up: 1.00099456310272216797\n",
      "   Up to bottom: 1.00099456310272216797\n",
      "  Dirichlet:\n",
      "   Bottom to up: 0.99903950759827175876\n",
      "   Up to bottom: 0.99903950759827153671\n",
      "float64\n",
      "n: 50, s: 2\n",
      "  Riemann:\n",
      "   Bottom to up: 1.62513273362152910195\n",
      "   Up to bottom: 1.62513273362152932400\n",
      "  Dirichlet:\n",
      "   Bottom to up: 0.82227103182602945264\n",
      "   Up to bottom: 0.82227103182602889753\n",
      "n: 50, s: 3.6667\n",
      "  Riemann:\n",
      "   Bottom to up: 1.10939975515419453345\n",
      "   Up to bottom: 1.10939975515419431140\n",
      "  Dirichlet:\n",
      "   Bottom to up: 0.93469306003071062072\n",
      "   Up to bottom: 0.93469306003071095379\n",
      "n: 50, s: 5\n",
      "  Riemann:\n",
      "   Bottom to up: 1.03692771671671191136\n",
      "   Up to bottom: 1.03692771671671080114\n",
      "  Dirichlet:\n",
      "   Bottom to up: 0.97211976892679785589\n",
      "   Up to bottom: 0.97211976892679763385\n",
      "n: 50, s: 7.2\n",
      "  Riemann:\n",
      "   Bottom to up: 1.00722766647628159120\n",
      "   Up to bottom: 1.00722766647628225734\n",
      "  Dirichlet:\n",
      "   Bottom to up: 0.99352700066134858048\n",
      "   Up to bottom: 0.99352700066134813639\n",
      "n: 50, s: 10\n",
      "  Riemann:\n",
      "   Bottom to up: 1.00099457512781819801\n",
      "   Up to bottom: 1.00099457512781797597\n",
      "  Dirichlet:\n",
      "   Bottom to up: 0.99903950759827175876\n",
      "   Up to bottom: 0.99903950759827153671\n",
      "n: 100, s: 2\n",
      "  Riemann:\n",
      "   Bottom to up: 1.63498390018489225817\n",
      "   Up to bottom: 1.63498390018489292430\n",
      "  Dirichlet:\n",
      "   Bottom to up: 0.82241753337412859537\n",
      "   Up to bottom: 0.82241753337412815128\n",
      "n: 100, s: 3.6667\n",
      "  Riemann:\n",
      "   Bottom to up: 1.10940879734214736807\n",
      "   Up to bottom: 1.10940879734214759011\n",
      "  Dirichlet:\n",
      "   Bottom to up: 0.93469332114006620227\n",
      "   Up to bottom: 0.93469332114006697942\n",
      "n: 100, s: 5\n",
      "  Riemann:\n",
      "   Bottom to up: 1.03692775269295545115\n",
      "   Up to bottom: 1.03692775269295323071\n",
      "  Dirichlet:\n",
      "   Bottom to up: 0.97211977039815922197\n",
      "   Up to bottom: 0.97211977039815888890\n",
      "n: 100, s: 7.2\n",
      "  Riemann:\n",
      "   Bottom to up: 1.00722766648065409356\n",
      "   Up to bottom: 1.00722766648065498174\n",
      "  Dirichlet:\n",
      "   Bottom to up: 0.99352700066161847570\n",
      "   Up to bottom: 0.99352700066161792058\n",
      "n: 100, s: 10\n",
      "  Riemann:\n",
      "   Bottom to up: 1.00099457512781819801\n",
      "   Up to bottom: 1.00099457512781797597\n",
      "  Dirichlet:\n",
      "   Bottom to up: 0.99903950759827175876\n",
      "   Up to bottom: 0.99903950759827153671\n",
      "n: 200, s: 2\n",
      "  Riemann:\n",
      "   Bottom to up: 1.63994654601499711966\n",
      "   Up to bottom: 1.63994654601499734170\n",
      "  Dirichlet:\n",
      "   Bottom to up: 0.82245459592255099057\n",
      "   Up to bottom: 0.82245459592255087955\n",
      "n: 200, s: 3.6667\n",
      "  Riemann:\n",
      "   Bottom to up: 1.10941024233323126680\n",
      "   Up to bottom: 1.10941024233323104475\n",
      "  Dirichlet:\n",
      "   Bottom to up: 0.93469334210868448842\n",
      "   Up to bottom: 0.93469334210868515456\n",
      "n: 200, s: 5\n",
      "  Riemann:\n",
      "   Bottom to up: 1.03692775498867750805\n",
      "   Up to bottom: 1.03692775498867595374\n",
      "  Dirichlet:\n",
      "   Bottom to up: 0.97211977044536701520\n",
      "   Up to bottom: 0.97211977044536634907\n",
      "n: 200, s: 7.2\n",
      "  Riemann:\n",
      "   Bottom to up: 1.00722766648071448969\n",
      "   Up to bottom: 1.00722766648071626605\n",
      "  Dirichlet:\n",
      "   Bottom to up: 0.99352700066162014103\n",
      "   Up to bottom: 0.99352700066161980796\n",
      "n: 200, s: 10\n",
      "  Riemann:\n",
      "   Bottom to up: 1.00099457512781819801\n",
      "   Up to bottom: 1.00099457512781797597\n",
      "  Dirichlet:\n",
      "   Bottom to up: 0.99903950759827175876\n",
      "   Up to bottom: 0.99903950759827153671\n",
      "n: 500, s: 2\n",
      "  Riemann:\n",
      "   Bottom to up: 1.64293606551489390633\n",
      "   Up to bottom: 1.64293606551489412837\n",
      "  Dirichlet:\n",
      "   Bottom to up: 0.82246503742409626803\n",
      "   Up to bottom: 0.82246503742409715620\n",
      "n: 500, s: 3.6667\n",
      "  Riemann:\n",
      "   Bottom to up: 1.10941049084407117320\n",
      "   Up to bottom: 1.10941049084407250547\n",
      "  Dirichlet:\n",
      "   Bottom to up: 0.93469334385587454772\n",
      "   Up to bottom: 0.93469334385587499181\n",
      "n: 500, s: 5\n",
      "  Riemann:\n",
      "   Bottom to up: 1.03692775513938628684\n",
      "   Up to bottom: 1.03692775513938584275\n",
      "  Dirichlet:\n",
      "   Bottom to up: 0.97211977044689468208\n",
      "   Up to bottom: 0.97211977044689334981\n",
      "n: 500, s: 7.2\n",
      "  Riemann:\n",
      "   Bottom to up: 1.00722766648071448969\n",
      "   Up to bottom: 1.00722766648071715423\n",
      "  Dirichlet:\n",
      "   Bottom to up: 0.99352700066162014103\n",
      "   Up to bottom: 0.99352700066161980796\n",
      "n: 500, s: 10\n",
      "  Riemann:\n",
      "   Bottom to up: 1.00099457512781819801\n",
      "   Up to bottom: 1.00099457512781797597\n",
      "  Dirichlet:\n",
      "   Bottom to up: 0.99903950759827175876\n",
      "   Up to bottom: 0.99903950759827153671\n",
      "n: 1000, s: 2\n",
      "  Riemann:\n",
      "   Bottom to up: 1.64393456668156145994\n",
      "   Up to bottom: 1.64393456668155968359\n",
      "  Dirichlet:\n",
      "   Bottom to up: 0.82246653392411139816\n",
      "   Up to bottom: 0.82246653392411273042\n",
      "n: 1000, s: 3.6667\n",
      "  Riemann:\n",
      "   Bottom to up: 1.10941051084235775548\n",
      "   Up to bottom: 1.10941051084235930979\n",
      "  Dirichlet:\n",
      "   Bottom to up: 0.93469334391413527729\n",
      "   Up to bottom: 0.93469334391413538832\n",
      "n: 1000, s: 5\n",
      "  Riemann:\n",
      "   Bottom to up: 1.03692775514312218732\n",
      "   Up to bottom: 1.03692775514312041096\n",
      "  Dirichlet:\n",
      "   Bottom to up: 0.97211977044690911498\n",
      "   Up to bottom: 0.97211977044690878191\n",
      "n: 1000, s: 7.2\n",
      "  Riemann:\n",
      "   Bottom to up: 1.00722766648071448969\n",
      "   Up to bottom: 1.00722766648071715423\n",
      "  Dirichlet:\n",
      "   Bottom to up: 0.99352700066162014103\n",
      "   Up to bottom: 0.99352700066161980796\n",
      "n: 1000, s: 10\n",
      "  Riemann:\n",
      "   Bottom to up: 1.00099457512781819801\n",
      "   Up to bottom: 1.00099457512781797597\n",
      "  Dirichlet:\n",
      "   Bottom to up: 0.99903950759827175876\n",
      "   Up to bottom: 0.99903950759827153671\n"
     ]
    }
   ],
   "source": [
    "s_list = [2, 3.6667, 5, 7.2, 10]\n",
    "n_list = [50, 100, 200, 500, 1000]\n",
    "\n",
    "print(f'float32')\n",
    "for n in n_list:\n",
    "    for s in s_list:\n",
    "        print(f'n: {n}, s: {s}')\n",
    "        print('  Riemann:')\n",
    "        print(f'   Bottom to up: {riemann_zeta_function_sum(s, n, to_bottom = False, sum_type = np.float32) :.20f}')\n",
    "        print(f'   Up to bottom: {riemann_zeta_function_sum(s, n, to_bottom = True, sum_type = np.float32):.20f}')\n",
    "        print('  Dirichlet:')\n",
    "        print(f'   Bottom to up: {dirichlet_eta_function_sum(s, n, to_bottom = False, sum_type = np.float32):.20f}')\n",
    "        print(f'   Up to bottom: {dirichlet_eta_function_sum(s, n, to_bottom = True, sum_type = np.float32):.20f}')\n",
    "\n",
    "print(f'float64')\n",
    "for n in n_list:\n",
    "    for s in s_list:\n",
    "        print(f'n: {n}, s: {s}')\n",
    "        print('  Riemann:')\n",
    "        print(f'   Bottom to up: {riemann_zeta_function_sum(s, n, to_bottom = False, sum_type = np.float64):.20f}')\n",
    "        print(f'   Up to bottom: {riemann_zeta_function_sum(s, n, to_bottom = True, sum_type = np.float64):.20f}')\n",
    "        print('  Dirichlet:')\n",
    "        print(f'   Bottom to up: {dirichlet_eta_function_sum(s, n, to_bottom = False, sum_type = np.float64):.20f}')\n",
    "        print(f'   Up to bottom: {dirichlet_eta_function_sum(s, n, to_bottom = True, sum_type = np.float64):.20f}')\n",
    "       "
   ]
  },
  {
   "cell_type": "markdown",
   "id": "4a09ab48",
   "metadata": {},
   "source": [
    "*Wnioski:*\n",
    "W przypadku funkcji *Zeta Riemanna*, jeśli sumujemy zaczynając od $k=1$, na samym początku sumujemy wyrazy duże, a po jakimś czasie do dużej zakumulowanej sumy dodajmy dużo mniejsze wyrazy (te dla większych $k$), przez co tracimy na precyzji. Dla szeregu funkcji Riemanna, lepsze będzie zatem sumowanie zaczynając od mniejszych wyrazów (czyli z początkowym $k=n$). Warto zaznaczyć, że dla większych $s$ problem ten nie występuje. Większy wykładnik potęgi sprawia, że mianowniki ułamków są duże, a zatem same składniki w szeregu mniejsze, przez co nie następuję aż taka akumulacja.\n",
    "Dla funkcji *Eta Dirichleta* problem nadmiernej różnicy rzędu wielkości między akumulatorem a kolejnymi składnikami występuje w dużo mniejszym stopniu. Wyjaśnić to można faktem, że kolejne składniki mają naprzemienne znaki, a zatem akumulowanie się wartości jest wolniejsze.\n",
    "Powyższe efekty zachodzą w bardziej zauważalnym stopniu dla float32 niż dla float64 z oczywistych powodów mniejszej precyzji."
   ]
  },
  {
   "cell_type": "markdown",
   "id": "2524d4da",
   "metadata": {},
   "source": [
    "### Zadanie 4 - Błędy zaokrągleń i odwzorowanie logistyczne "
   ]
  },
  {
   "cell_type": "markdown",
   "id": "c1d0a008",
   "metadata": {},
   "source": [
    "Rozważ odwzorowanie logistyczne dane następującym wzorem rekurencyjnym \n",
    "$$x_{n+1}=rx_n(1-x_n)$$\n",
    "Przy czym $0 \\leqslant x_n \\leqslant 1$ i $r > 0$. Zbadaj zbieżność procesu iteracyjnego określonego tym\n",
    "równaniem w zależności od wartości parametru $r$ oraz $x_0$."
   ]
  },
  {
   "cell_type": "markdown",
   "id": "5568c9d1",
   "metadata": {},
   "source": [
    "a) Dla różnych wartości $r$ ($0 \\leqslant r \\leqslant 4$) oraz kilku wybranych wartości $x_0$ przedstaw\n",
    "na wykresie wartości $x_n$ uzyskane po wielu iteracjach odwzorowania logistycznego\n",
    "(diagram bifurkacyjny). Dokonaj interpretacji otrzymanych wyników."
   ]
  },
  {
   "cell_type": "code",
   "execution_count": 46,
   "id": "5d4b8b42",
   "metadata": {},
   "outputs": [
    {
     "name": "stderr",
     "output_type": "stream",
     "text": [
      "/tmp/ipykernel_5112/2018345684.py:12: RuntimeWarning: overflow encountered in multiply\n",
      "  x = np.multiply(x * (1 - x), np.transpose(r))\n"
     ]
    },
    {
     "data": {
      "text/plain": [
       "Text(0, 0.5, 'x')"
      ]
     },
     "execution_count": 46,
     "metadata": {},
     "output_type": "execute_result"
    },
    {
     "data": {
      "image/png": "[encoded data removed]",
      "text/plain": [
       "<Figure size 432x288 with 1 Axes>"
      ]
     },
     "metadata": {
      "needs_background": "light"
     },
     "output_type": "display_data"
    }
   ],
   "source": [
    "start_x = np.arange(0.5, 1, 0.05)\n",
    "r = np.arange(0.01, 4.05, 0.01)\n",
    "\n",
    "# doing some crazy numpy shit\n",
    "x = np.fromfunction(lambda i, j: start_x[i] ,(start_x.shape[0], r.shape[0]), dtype=int)\n",
    "\n",
    "x = np.multiply(x * (1 - x), np.transpose(r))\n",
    "\n",
    "NUM_OF_ITERATIONS = 10 ** 3\n",
    "\n",
    "for _ in range(NUM_OF_ITERATIONS):\n",
    "    x = np.multiply(x * (1 - x), np.transpose(r))\n",
    "\n",
    "r_axis = np.tile(r, start_x.shape[0])\n",
    "    \n",
    "plt.scatter(r_axis, x.flatten(), s=1)\n",
    "plt.xlabel('r')\n",
    "plt.ylabel('x')\n"
   ]
  },
  {
   "cell_type": "code",
   "execution_count": 48,
   "id": "bbba24c7",
   "metadata": {},
   "outputs": [
    {
     "name": "stderr",
     "output_type": "stream",
     "text": [
      "/tmp/ipykernel_5112/2884575713.py:12: RuntimeWarning: overflow encountered in multiply\n",
      "  x = np.multiply(x * (1 - x), np.transpose(r))\n"
     ]
    },
    {
     "data": {
      "text/plain": [
       "Text(0, 0.5, 'x')"
      ]
     },
     "execution_count": 48,
     "metadata": {},
     "output_type": "execute_result"
    },
    {
     "data": {
      "image/png": "[encoded data removed]",
      "text/plain": [
       "<Figure size 432x288 with 1 Axes>"
      ]
     },
     "metadata": {
      "needs_background": "light"
     },
     "output_type": "display_data"
    }
   ],
   "source": [
    "start_x = np.arange(0, 1, 0.05)\n",
    "r = np.arange(0.01, 4.05, 0.01)\n",
    "\n",
    "x = np.fromfunction(lambda i, j: start_x[i] ,(start_x.shape[0], r.shape[0]), dtype=int)\n",
    "\n",
    "\n",
    "x = np.multiply(x * (1 - x), np.transpose(r))\n",
    "\n",
    "NUM_OF_ITERATIONS = 10 ** 3\n",
    "\n",
    "for _ in range(NUM_OF_ITERATIONS):\n",
    "    x = np.multiply(x * (1 - x), np.transpose(r))\n",
    "\n",
    "r_axis = np.tile(r, start_x.shape[0])\n",
    "    \n",
    "plt.scatter(r_axis, x.flatten(), s=1)\n",
    "plt.xlabel('r')\n",
    "plt.ylabel('x')"
   ]
  },
  {
   "cell_type": "markdown",
   "id": "673557ce",
   "metadata": {},
   "source": [
    "*Interpretacja:* Dla paramteru $r \\in [0, 1]$ $x$ dąży do 0. Dla parametru $r \\in [1,3]$ $x$ dąży do pewnej krzywej, będącej funkcją $r$. Dla większych $r$, $x$ zmierza do większej ilości punktów stabilnych, a potem zachowuje się chaotycznie i nie można już mówić o przewidywalnej zbieżności. Dla wszystkich wartości $r$, $x=0$ jest punktem stabilnym"
   ]
  },
  {
   "cell_type": "markdown",
   "id": "c9698e3c",
   "metadata": {},
   "source": [
    "b)  Dla tych samych wartości $x_0$ oraz $r$ \n",
    "($3.75 \\leqslant r \\leqslant 3.8$) porównaj trajektorie obliczone\n",
    "z użyciem pojedynczej i podwójnej precyzji. Wyjaśnij otrzymane wyniki."
   ]
  },
  {
   "cell_type": "code",
   "execution_count": 92,
   "id": "ed2a0ccb",
   "metadata": {},
   "outputs": [
    {
     "data": {
      "text/plain": [
       "Text(0.5, 1.0, 'float64')"
      ]
     },
     "execution_count": 92,
     "metadata": {},
     "output_type": "execute_result"
    },
    {
     "data": {
      "image/png": "[encoded data removed]",
      "text/plain": [
       "<Figure size 432x288 with 1 Axes>"
      ]
     },
     "metadata": {
      "needs_background": "light"
     },
     "output_type": "display_data"
    }
   ],
   "source": [
    "NUM_OF_ITERATIONS = 10 ** 5\n",
    "STEP = 10**(-3)\n",
    "\n",
    "start_x = np.arange(STEP, 1, STEP)\n",
    "r = np.arange(3.75, 3.8, 0.001)\n",
    "\n",
    "x = np.fromfunction(\n",
    "    lambda i, j: start_x[i],\n",
    "    (start_x.shape[0], r.shape[0]),\n",
    "    dtype=int\n",
    "                   ).astype(np.float64)\n",
    "\n",
    "\n",
    "for _ in range(NUM_OF_ITERATIONS):\n",
    "    x = np.multiply(x * (1 - x), np.transpose(r), dtype=np.float64)\n",
    "\n",
    "r_axis = np.tile(r, start_x.shape[0])\n",
    "    \n",
    "plt.scatter(r_axis, x.flatten(), s=1)\n",
    "plt.xlabel('r')\n",
    "plt.ylabel('x')\n",
    "plt.title('float64')\n"
   ]
  },
  {
   "cell_type": "code",
   "execution_count": 93,
   "id": "5918eabb",
   "metadata": {},
   "outputs": [
    {
     "data": {
      "text/plain": [
       "Text(0.5, 1.0, 'float32')"
      ]
     },
     "execution_count": 93,
     "metadata": {},
     "output_type": "execute_result"
    },
    {
     "data": {
      "image/png": "[encoded data removed]",
      "text/plain": [
       "<Figure size 432x288 with 1 Axes>"
      ]
     },
     "metadata": {
      "needs_background": "light"
     },
     "output_type": "display_data"
    }
   ],
   "source": [
    "x = np.fromfunction(\n",
    "    lambda i, j: start_x[i],\n",
    "    (start_x.shape[0], r.shape[0]),\n",
    "    dtype=int\n",
    "                   ).astype(np.float32)\n",
    "\n",
    "\n",
    "for _ in range(NUM_OF_ITERATIONS):\n",
    "    x = np.multiply(x * (1 - x), np.transpose(r), dtype=np.float32)\n",
    "\n",
    "r_axis = np.tile(r, start_x.shape[0])\n",
    "    \n",
    "plt.scatter(r_axis, x.flatten(), s=1)\n",
    "plt.xlabel('r')\n",
    "plt.ylabel('x')\n",
    "plt.title('float32')"
   ]
  },
  {
   "cell_type": "markdown",
   "id": "d94fece0",
   "metadata": {},
   "source": [
    "*Interpretacja:* dla float32, ze względu na braki w precyzji zbieżność do stablinych punktów zachodzi szybciej niż dla float64"
   ]
  },
  {
   "cell_type": "markdown",
   "id": "888726bc",
   "metadata": {},
   "source": [
    "c) Dla $r = 4$ i różnych wartości $x_0$ wyznacz (pojedyncza precyzja) liczbę iteracji\n",
    "potrzebnych do osiągnięcia zera. Przedstaw interpretację rezultatów"
   ]
  },
  {
   "cell_type": "code",
   "execution_count": 107,
   "id": "55e48d7c",
   "metadata": {},
   "outputs": [
    {
     "name": "stdout",
     "output_type": "stream",
     "text": [
      "It is not convergent for 0.01\n",
      "It is not convergent for 0.02\n",
      "It is not convergent for 0.03\n",
      "It is not convergent for 0.04\n",
      "It is not convergent for 0.05\n",
      "For starting x: 0.060000000000000005, number of iterations is: 1737\n",
      "It is not convergent for 0.06999999999999999\n",
      "It is not convergent for 0.08\n",
      "It is not convergent for 0.09\n",
      "It is not convergent for 0.09999999999999999\n",
      "It is not convergent for 0.11\n",
      "It is not convergent for 0.12\n",
      "For starting x: 0.13, number of iterations is: 1733\n",
      "It is not convergent for 0.14\n",
      "It is not convergent for 0.15000000000000002\n",
      "It is not convergent for 0.16\n",
      "It is not convergent for 0.17\n",
      "It is not convergent for 0.18000000000000002\n",
      "It is not convergent for 0.19\n",
      "It is not convergent for 0.2\n",
      "It is not convergent for 0.21000000000000002\n",
      "It is not convergent for 0.22\n",
      "It is not convergent for 0.23\n",
      "For starting x: 0.24000000000000002, number of iterations is: 277\n",
      "It is not convergent for 0.25\n",
      "It is not convergent for 0.26\n",
      "It is not convergent for 0.27\n",
      "It is not convergent for 0.28\n",
      "It is not convergent for 0.29000000000000004\n",
      "It is not convergent for 0.3\n",
      "It is not convergent for 0.31\n",
      "It is not convergent for 0.32\n",
      "It is not convergent for 0.33\n",
      "It is not convergent for 0.34\n",
      "It is not convergent for 0.35000000000000003\n",
      "It is not convergent for 0.36000000000000004\n",
      "It is not convergent for 0.37\n",
      "It is not convergent for 0.38\n",
      "It is not convergent for 0.39\n",
      "It is not convergent for 0.4\n",
      "For starting x: 0.41000000000000003, number of iterations is: 67\n",
      "It is not convergent for 0.42000000000000004\n",
      "It is not convergent for 0.43\n",
      "It is not convergent for 0.44\n",
      "It is not convergent for 0.45\n",
      "It is not convergent for 0.46\n",
      "For starting x: 0.47000000000000003, number of iterations is: 1339\n",
      "It is not convergent for 0.48000000000000004\n",
      "It is not convergent for 0.49\n",
      "For starting x: 0.5, number of iterations is: 2\n",
      "It is not convergent for 0.51\n",
      "For starting x: 0.52, number of iterations is: 1468\n",
      "For starting x: 0.53, number of iterations is: 1339\n",
      "It is not convergent for 0.54\n",
      "It is not convergent for 0.55\n",
      "It is not convergent for 0.56\n",
      "It is not convergent for 0.5700000000000001\n",
      "It is not convergent for 0.5800000000000001\n",
      "It is not convergent for 0.59\n",
      "It is not convergent for 0.6\n",
      "It is not convergent for 0.61\n",
      "It is not convergent for 0.62\n",
      "It is not convergent for 0.63\n",
      "It is not convergent for 0.64\n",
      "It is not convergent for 0.65\n",
      "It is not convergent for 0.66\n",
      "For starting x: 0.67, number of iterations is: 1307\n",
      "It is not convergent for 0.68\n",
      "It is not convergent for 0.6900000000000001\n",
      "It is not convergent for 0.7000000000000001\n",
      "It is not convergent for 0.7100000000000001\n",
      "It is not convergent for 0.72\n",
      "It is not convergent for 0.73\n",
      "It is not convergent for 0.74\n",
      "It is not convergent for 0.75\n",
      "For starting x: 0.76, number of iterations is: 277\n",
      "It is not convergent for 0.77\n",
      "It is not convergent for 0.78\n",
      "It is not convergent for 0.79\n",
      "It is not convergent for 0.8\n",
      "It is not convergent for 0.81\n",
      "It is not convergent for 0.8200000000000001\n",
      "It is not convergent for 0.8300000000000001\n",
      "It is not convergent for 0.8400000000000001\n",
      "It is not convergent for 0.85\n",
      "It is not convergent for 0.86\n",
      "For starting x: 0.87, number of iterations is: 1733\n",
      "It is not convergent for 0.88\n",
      "It is not convergent for 0.89\n",
      "It is not convergent for 0.9\n",
      "It is not convergent for 0.91\n",
      "It is not convergent for 0.92\n",
      "It is not convergent for 0.93\n",
      "For starting x: 0.9400000000000001, number of iterations is: 1737\n",
      "It is not convergent for 0.9500000000000001\n",
      "It is not convergent for 0.9600000000000001\n",
      "It is not convergent for 0.97\n",
      "It is not convergent for 0.98\n",
      "It is not convergent for 0.99\n"
     ]
    }
   ],
   "source": [
    "start_x = np.arange(0.01, 1, 0.01)\n",
    "r = np.array([4])\n",
    "\n",
    "MAX_ITER = 10**6\n",
    "\n",
    "for possible_start_x in start_x:\n",
    "    x = np.float32(possible_start_x)\n",
    "    iter_count = 0\n",
    "    while iter_count < MAX_ITER and x != 0:\n",
    "\n",
    "        x = np.float32(r * x * (1 - x))\n",
    "        iter_count += 1\n",
    "        \n",
    "    if iter_count == MAX_ITER:\n",
    "        print(f'It is not convergent for {possible_start_x}')\n",
    "    else:\n",
    "        print(f'For starting x: {possible_start_x}, number of iterations is: {iter_count}')\n"
   ]
  },
  {
   "cell_type": "markdown",
   "id": "3ee7fa04",
   "metadata": {},
   "source": [
    "*Wnioski:* układ jest teoretycznie chaotyczny i nie powinien zbiegać do żadnej wartości, ale dla niektórych przypadkowych x jeśli wartość podczas któregoś kroku będzie dostatecznie bliska 0, przez błąd precyzji może zostać potraktowana jak 0 przez co układ osiągnie punkt stabilny 0."
   ]
  }
 ],
 "metadata": {
  "kernelspec": {
   "display_name": "Python 3.8.10 64-bit",
   "language": "python",
   "name": "python3810jvsc74a57bd0916dbcbb3f70747c44a77c7bcd40155683ae19c65e1c03b4aa3499c5328201f1"
  },
  "language_info": {
   "codemirror_mode": {
    "name": "ipython",
    "version": 3
   },
   "file_extension": ".py",
   "mimetype": "text/x-python",
   "name": "python",
   "nbconvert_exporter": "python",
   "pygments_lexer": "ipython3",
   "version": "3.8.10"
  }
 },
 "nbformat": 4,
 "nbformat_minor": 5
}
